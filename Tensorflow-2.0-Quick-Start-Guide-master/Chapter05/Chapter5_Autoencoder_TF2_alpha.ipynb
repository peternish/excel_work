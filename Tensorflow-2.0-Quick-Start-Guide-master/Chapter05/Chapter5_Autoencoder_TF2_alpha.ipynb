{
 "cells": [
  {
   "cell_type": "code",
   "execution_count": null,
   "metadata": {},
   "outputs": [],
   "source": [
    "from tensorflow.keras.layers import Input, Dense\n",
    "from tensorflow.keras.models import Model\n",
    "from tensorflow.keras.datasets import fashion_mnist\n",
    "from tensorflow.keras.callbacks import ModelCheckpoint, EarlyStopping\n",
    "from tensorflow.keras import regularizers\n",
    "import numpy as np\n",
    "import matplotlib.pyplot as plt\n",
    "\n",
    "%matplotlib inline"
   ]
  },
  {
   "cell_type": "code",
   "execution_count": null,
   "metadata": {},
   "outputs": [],
   "source": [
    "(x_train, _), (x_test, _) = fashion_mnist.load_data() # we don't need the labels\n",
    "x_train = x_train.astype('float32') / 255. # normalise\n",
    "x_test = x_test.astype('float32') / 255.\n",
    "\n",
    "print(x_train.shape) # shape of input\n",
    "print(x_test.shape)\n",
    "\n",
    "x_train = x_train.reshape(( x_train.shape[0], np.prod(x_train.shape[1:]))) #flatten\n",
    "x_test = x_test.reshape((x_test.shape[0], np.prod(x_test.shape[1:])))\n",
    "\n",
    "print(x_train.shape)\n",
    "print(x_test.shape)"
   ]
  },
  {
   "cell_type": "code",
   "execution_count": null,
   "metadata": {},
   "outputs": [],
   "source": [
    "image_dim =  784 # this is the size of our input image, 784\n",
    "encoding_dim = 32 # this is the length of our encoded items.Compression of factor=784/32=24.5"
   ]
  },
  {
   "cell_type": "code",
   "execution_count": null,
   "metadata": {},
   "outputs": [],
   "source": [
    "input_image = Input(shape=(image_dim, )) # this is our input placeholder\n",
    "\n",
    "encoded_image = Dense(encoding_dim, activation='relu',\n",
    "                      activity_regularizer=regularizers.l1(10e-5))(input_image)# \"encoded\" is the encoded representation of the input\n",
    "encoder = Model(input_image, encoded_image)\n",
    "\n",
    "decoded_image = Dense(image_dim, activation='sigmoid')(encoded_image)# \"decoded\" is the lossy reconstruction of the input\n",
    "\n",
    "autoencoder = Model(input_image, decoded_image) # this model maps an input to its reconstruction"
   ]
  },
  {
   "cell_type": "code",
   "execution_count": null,
   "metadata": {},
   "outputs": [],
   "source": []
  },
  {
   "cell_type": "code",
   "execution_count": null,
   "metadata": {},
   "outputs": [],
   "source": [
    "\n",
    "encoded_input = Input(shape=(encoding_dim,))# create a placeholder for an encoded (32-dimensional) input\n",
    "\n",
    "decoder_layer = autoencoder.layers[-1]# retrieve the last layer of the autoencoder model\n",
    "\n",
    "decoder = Model(encoded_input, decoder_layer(encoded_input))# create the decoder model"
   ]
  },
  {
   "cell_type": "code",
   "execution_count": null,
   "metadata": {},
   "outputs": [],
   "source": [
    "autoencoder.compile(optimizer='adadelta', loss='binary_crossentropy')\n",
    "checkpointer1 = ModelCheckpoint(filepath= 'model.weights.best.hdf5' , verbose =2, save_best_only =  True)\n",
    "checkpointer2 = EarlyStopping(monitor='val_loss',\n",
    "                              min_delta=0.0005,\n",
    "                              patience=2,\n",
    "                              verbose=2, mode='auto')"
   ]
  },
  {
   "cell_type": "code",
   "execution_count": null,
   "metadata": {},
   "outputs": [],
   "source": [
    "autoencoder.fit(x_train, x_train,\n",
    "                epochs=500,\n",
    "                batch_size=256,callbacks=[checkpointer1], verbose=2,\n",
    "                shuffle=True,\n",
    "                validation_data=(x_test, x_test))"
   ]
  },
  {
   "cell_type": "code",
   "execution_count": null,
   "metadata": {},
   "outputs": [],
   "source": [
    "# encode and decode some items\n",
    "# note that we take them from the *test* set\n",
    "\n",
    "autoencoder.load_weights('model.weights.best.hdf5' )\n",
    "encoded_images = encoder.predict(x_test)\n",
    "decoded_images = decoder.predict(encoded_images)"
   ]
  },
  {
   "cell_type": "code",
   "execution_count": null,
   "metadata": {},
   "outputs": [],
   "source": [
    "number_of_items = 12  # how many tems we will display\n",
    "plt.figure(figsize=(20, 4))\n",
    "for i in range(number_of_items):\n",
    "    # display items before compression\n",
    "    graph = plt.subplot(2, number_of_items, i + 1)\n",
    "    plt.imshow(x_test[i].reshape(28, 28))\n",
    "    plt.gray()\n",
    "    graph.get_xaxis().set_visible(False)\n",
    "    graph.get_yaxis().set_visible(False)\n",
    "\n",
    "    # display items after decompression\n",
    "    graph = plt.subplot(2, number_of_items, i + 1 + number_of_items)\n",
    "    plt.imshow(decoded_images[i].reshape(28, 28))\n",
    "    plt.gray()\n",
    "    graph.get_xaxis().set_visible(False)\n",
    "    graph.get_yaxis().set_visible(False)\n",
    "plt.show()"
   ]
  },
  {
   "cell_type": "code",
   "execution_count": null,
   "metadata": {},
   "outputs": [],
   "source": []
  },
  {
   "cell_type": "code",
   "execution_count": null,
   "metadata": {},
   "outputs": [],
   "source": []
  },
  {
   "cell_type": "code",
   "execution_count": null,
   "metadata": {},
   "outputs": [],
   "source": []
  },
  {
   "cell_type": "code",
   "execution_count": null,
   "metadata": {},
   "outputs": [],
   "source": []
  },
  {
   "cell_type": "code",
   "execution_count": null,
   "metadata": {},
   "outputs": [],
   "source": []
  },
  {
   "cell_type": "code",
   "execution_count": null,
   "metadata": {},
   "outputs": [],
   "source": []
  },
  {
   "cell_type": "code",
   "execution_count": null,
   "metadata": {},
   "outputs": [],
   "source": []
  }
 ],
 "metadata": {
  "kernelspec": {
   "display_name": "Python 3",
   "language": "python",
   "name": "python3"
  },
  "language_info": {
   "codemirror_mode": {
    "name": "ipython",
    "version": 3
   },
   "file_extension": ".py",
   "mimetype": "text/x-python",
   "name": "python",
   "nbconvert_exporter": "python",
   "pygments_lexer": "ipython3",
   "version": "3.6.7"
  }
 },
 "nbformat": 4,
 "nbformat_minor": 2
}
