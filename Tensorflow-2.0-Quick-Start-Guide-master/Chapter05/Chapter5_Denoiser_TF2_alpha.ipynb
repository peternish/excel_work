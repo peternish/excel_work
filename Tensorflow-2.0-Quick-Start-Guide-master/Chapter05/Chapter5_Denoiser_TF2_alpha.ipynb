{
 "cells": [
  {
   "cell_type": "code",
   "execution_count": null,
   "metadata": {},
   "outputs": [],
   "source": [
    "from tensorflow.keras.layers import Input, Dense, Conv2D, MaxPooling2D, UpSampling2D\n",
    "from tensorflow.keras.models import Model\n",
    "from tensorflow.keras.datasets import fashion_mnist\n",
    "from tensorflow.keras.callbacks import TensorBoard\n",
    "import numpy as np\n",
    "import matplotlib.pyplot as plt\n",
    "%matplotlib inline"
   ]
  },
  {
   "cell_type": "code",
   "execution_count": null,
   "metadata": {},
   "outputs": [],
   "source": [
    "(train_x, _), (test_x, _) = fashion_mnist.load_data()\n",
    "\n",
    "train_x = train_x.astype('float32') / 255.\n",
    "test_x = test_x.astype('float32') / 255.\n",
    "\n",
    "print(train_x.shape)\n",
    "print(test_x.shape)"
   ]
  },
  {
   "cell_type": "code",
   "execution_count": null,
   "metadata": {},
   "outputs": [],
   "source": [
    "train_x = np.reshape(train_x, (len(train_x), 28, 28, 1))\n",
    "test_x = np.reshape(test_x, (len(test_x), 28, 28, 1))\n",
    "\n",
    "print(train_x.shape)\n",
    "print(test_x.shape)"
   ]
  },
  {
   "cell_type": "code",
   "execution_count": null,
   "metadata": {},
   "outputs": [],
   "source": [
    "noise = 0.5\n",
    "train_x_noisy = train_x + noise * np.random.normal(loc=0.0, scale=1.0, size=train_x.shape)\n",
    "test_x_noisy = test_x + noise * np.random.normal(loc=0.0, scale=1.0, size=test_x.shape)\n",
    "\n",
    "train_x_noisy = np.clip(train_x_noisy, 0., 1.)\n",
    "test_x_noisy = np.clip(test_x_noisy, 0., 1.)"
   ]
  },
  {
   "cell_type": "code",
   "execution_count": null,
   "metadata": {},
   "outputs": [],
   "source": [
    "number_of_items = 10\n",
    "plt.figure(figsize=(20, 2))\n",
    "\n",
    "for i in range(number_of_items):\n",
    "    display = plt.subplot(1, number_of_items,i+1)\n",
    "    plt.imshow(test_x[i].reshape(28, 28))\n",
    "    plt.gray()\n",
    "    display.get_xaxis().set_visible(False)\n",
    "    display.get_yaxis().set_visible(False)"
   ]
  },
  {
   "cell_type": "code",
   "execution_count": null,
   "metadata": {},
   "outputs": [],
   "source": [
    "plt.figure(figsize=(20, 2))\n",
    "for i in range(number_of_items):\n",
    "    display = plt.subplot(1, number_of_items,i+1)\n",
    "    plt.imshow(test_x_noisy[i].reshape(28, 28))\n",
    "    plt.gray()\n",
    "    display.get_xaxis().set_visible(False)\n",
    "    display.get_yaxis().set_visible(False)\n",
    "plt.show()"
   ]
  },
  {
   "cell_type": "code",
   "execution_count": null,
   "metadata": {},
   "outputs": [],
   "source": [
    "input_image = Input(shape=(28, 28, 1))\n",
    "print(input_image.shape)\n",
    "im = Conv2D(32, (3, 3), activation='relu', padding='same')(input_image)\n",
    "print(im.shape)\n",
    "im = MaxPooling2D((2, 2), padding='same')(im)\n",
    "print(im.shape)\n",
    "im = Conv2D(32, (3, 3), activation='relu', padding='same')(im)\n",
    "print(im.shape)\n",
    "encoded = MaxPooling2D((2, 2), padding='same')(im)\n",
    "print(encoded.shape)\n",
    "# at this point the representation is (7, 7, 32)\n",
    "\n",
    "im = Conv2D(32, (3, 3), activation='relu', padding='same')(encoded)\n",
    "print(im.shape)\n",
    "im = UpSampling2D((2, 2))(im)\n",
    "print(im.shape)\n",
    "im = Conv2D(32, (3, 3), activation='relu', padding='same')(im)\n",
    "print(im.shape)\n",
    "im = UpSampling2D((2, 2))(im)\n",
    "print(im.shape)\n",
    "decoded = Conv2D(1, (3, 3), activation='sigmoid', padding='same')(im)\n",
    "print(decoded.shape)\n",
    "\n",
    "autoencoder = Model(inputs=input_image, outputs=decoded)\n",
    "autoencoder.compile(optimizer='adadelta', loss='binary_crossentropy')"
   ]
  },
  {
   "cell_type": "code",
   "execution_count": null,
   "metadata": {},
   "outputs": [],
   "source": [
    "autoencoder.summary()"
   ]
  },
  {
   "cell_type": "code",
   "execution_count": null,
   "metadata": {},
   "outputs": [],
   "source": [
    "tb = [TensorBoard(log_dir='./tmp/tb', write_graph=True)]\n",
    "epochs = 150 # for testing, set to 150 for actual training, best speed on GPU\n",
    "batch_size = 128\n",
    "autoencoder.fit(train_x_noisy, train_x,\n",
    "                epochs=epochs,\n",
    "                batch_size=batch_size,\n",
    "                shuffle=True,\n",
    "                validation_data=(test_x_noisy, test_x),\n",
    "                callbacks=tb)"
   ]
  },
  {
   "cell_type": "code",
   "execution_count": null,
   "metadata": {},
   "outputs": [],
   "source": []
  },
  {
   "cell_type": "code",
   "execution_count": null,
   "metadata": {},
   "outputs": [],
   "source": [
    "decoded_images = autoencoder.predict(test_x_noisy)\n",
    "number_of_items = 10\n",
    "plt.figure(figsize=(20, 2))\n",
    "for item in range(number_of_items):\n",
    "    display = plt.subplot(1, number_of_items,item+1)\n",
    "    im = decoded_images[item].reshape(28, 28)\n",
    "    plt.imshow(im)\n",
    "    display.get_xaxis().set_visible(False)\n",
    "    display.get_yaxis().set_visible(False)\n",
    "plt.show()"
   ]
  },
  {
   "cell_type": "code",
   "execution_count": null,
   "metadata": {},
   "outputs": [],
   "source": []
  },
  {
   "cell_type": "code",
   "execution_count": null,
   "metadata": {},
   "outputs": [],
   "source": []
  },
  {
   "cell_type": "code",
   "execution_count": null,
   "metadata": {},
   "outputs": [],
   "source": []
  }
 ],
 "metadata": {
  "kernelspec": {
   "display_name": "Python 3",
   "language": "python",
   "name": "python3"
  },
  "language_info": {
   "codemirror_mode": {
    "name": "ipython",
    "version": 3
   },
   "file_extension": ".py",
   "mimetype": "text/x-python",
   "name": "python",
   "nbconvert_exporter": "python",
   "pygments_lexer": "ipython3",
   "version": "3.6.7"
  }
 },
 "nbformat": 4,
 "nbformat_minor": 2
}
