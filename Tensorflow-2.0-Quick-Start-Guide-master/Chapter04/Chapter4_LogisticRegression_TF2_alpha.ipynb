{
 "cells": [
  {
   "cell_type": "code",
   "execution_count": 1,
   "metadata": {},
   "outputs": [],
   "source": [
    "import numpy as np\n",
    "import tensorflow as tf\n",
    "from tensorflow.keras.datasets import fashion_mnist\n",
    "from tensorflow.keras.callbacks import ModelCheckpoint\n"
   ]
  },
  {
   "cell_type": "code",
   "execution_count": 2,
   "metadata": {},
   "outputs": [],
   "source": [
    "# important constants\n",
    "batch_size = 128\n",
    "epochs = 20\n",
    "n_classes = 10\n",
    "learning_rate = 0.1\n",
    "width = 28\n",
    "height = 28"
   ]
  },
  {
   "cell_type": "code",
   "execution_count": 3,
   "metadata": {},
   "outputs": [],
   "source": [
    "fashion_labels = [\"T-shirt/top\",\"Trousers\",\"Pullover\",\"Dress\",\"Coat\",\"Sandal\",\"Shirt\",\"Sneaker\",\"Bag\",\"Ankle boot\"]\n",
    "#indices                0           1        2           3      4       5       6        7       8       9"
   ]
  },
  {
   "cell_type": "code",
   "execution_count": 4,
   "metadata": {},
   "outputs": [],
   "source": [
    "# load the dataset\n",
    "(x_train, y_train), (x_test, y_test) = fashion_mnist.load_data()\n",
    "\n",
    "# normalise the features  for better training\n",
    "x_train = x_train.astype('float32') / 255.\n",
    "x_test = x_test.astype('float32') / 255.\n",
    "\n",
    "# flatten the features  for use by the training algorithm\n",
    "x_train = x_train.reshape((60000, width * height))\n",
    "x_test = x_test.reshape((10000, width * height))\n",
    "\n",
    "split = 50000\n",
    "#split feature training  set into training and validation sets\n",
    "(x_train, x_valid) = x_train[:split], x_train[split:]\n",
    "(y_train, y_valid) = y_train[:split], y_train[split:]\n",
    "\n",
    "# one-hot encode the labels using TensorFLow.\n",
    "# then convert back to numpy as we cannot combine numpy\n",
    "# and tensors as input to keras later\n",
    "y_train_ohe = tf.one_hot(y_train, depth=n_classes).numpy()\n",
    "y_valid_ohe = tf.one_hot(y_valid, depth=n_classes).numpy()\n",
    "y_test_ohe = tf.one_hot(y_test, depth=n_classes).numpy()\n",
    "#or use tf.keras.utils.to_categorical(y_train,10)"
   ]
  },
  {
   "cell_type": "code",
   "execution_count": 5,
   "metadata": {},
   "outputs": [
    {
     "name": "stdout",
     "output_type": "stream",
     "text": [
      "2\n",
      "tf.Tensor([0. 0. 1. 0. 0. 0. 0. 0. 0. 0.], shape=(10,), dtype=float32)\n",
      "[0. 0. 1. 0. 0. 0. 0. 0. 0. 0.]\n"
     ]
    }
   ],
   "source": [
    "# show difference between original label and one-hot-encoded label\n",
    "i=5\n",
    "print(y_train[i]) # 'ordinairy' number value of label at index i\n",
    "print (tf.one_hot(y_train[i], depth=n_classes))# same value as a 1. in correct position in an length 10 1D tensor\n",
    "print(y_train_ohe[i]) # same value as a 1. in correct position in an length 10 1D numpy array"
   ]
  },
  {
   "cell_type": "code",
   "execution_count": 6,
   "metadata": {},
   "outputs": [
    {
     "name": "stdout",
     "output_type": "stream",
     "text": [
      "Ankle bootT-shirt/topT-shirt/topDressT-shirt/topPulloverSneakerPulloverSandalSandal"
     ]
    },
    {
     "data": {
      "image/png": "[encoded data removed]",
      "text/plain": [
       "<Figure size 576x72 with 10 Axes>"
      ]
     },
     "metadata": {
      "needs_background": "light"
     },
     "output_type": "display_data"
    }
   ],
   "source": [
    "# print sample fashion images.\n",
    "# we have to reshape the image held in x_train back to width by height\n",
    "# as we flattened it for training into width*height\n",
    "import matplotlib.pyplot as plt\n",
    "%matplotlib inline\n",
    "_,image  = plt.subplots(1,10,figsize=(8,1))\n",
    "\n",
    "for i in range(10):\n",
    "    image[i].imshow(np.reshape(x_train[i],(width, height)), cmap=\"Greys\")\n",
    "    print(fashion_labels[y_train[i]],sep='', end='')"
   ]
  },
  {
   "cell_type": "code",
   "execution_count": 7,
   "metadata": {},
   "outputs": [],
   "source": [
    "# model definition (one canonical Google way)\n",
    "class LogisticRegression(tf.keras.Model):\n",
    "\n",
    "    def __init__(self, num_classes):\n",
    "        super(LogisticRegression, self).__init__() # call the constructor of the parent class (Model)\n",
    "        self.dense = tf.keras.layers.Dense(num_classes) #create an empty  layer called dense with 10 elements.\n",
    "\n",
    "    def call(self, inputs, training=None, mask=None): # required for our forward pass\n",
    "        output = self.dense(inputs) # copy training inputs into our layer\n",
    "\n",
    "        # softmax op does not exist on the gpu, so force execution on the CPU\n",
    "        with tf.device('/cpu:0'):\n",
    "            output = tf.nn.softmax(output) # softmax is near one for maximum value in output\n",
    "                                           # and near zero for the other values.\n",
    "\n",
    "        return output"
   ]
  },
  {
   "cell_type": "code",
   "execution_count": 8,
   "metadata": {},
   "outputs": [
    {
     "name": "stdout",
     "output_type": "stream",
     "text": [
      "Train on 50000 samples, validate on 10000 samples\n",
      "Epoch 1/20\n",
      "\n",
      "Epoch 00001: val_loss improved from inf to 0.56849, saving model to ./model.weights.best.hdf5\n",
      "50000/50000 - 1s - loss: 0.7709 - accuracy: 0.7504 - val_loss: 0.5685 - val_accuracy: 0.8088\n",
      "Epoch 2/20\n",
      "\n",
      "Epoch 00002: val_loss improved from 0.56849 to 0.51089, saving model to ./model.weights.best.hdf5\n",
      "50000/50000 - 1s - loss: 0.5298 - accuracy: 0.8248 - val_loss: 0.5109 - val_accuracy: 0.8300\n",
      "Epoch 3/20\n",
      "\n",
      "Epoch 00003: val_loss improved from 0.51089 to 0.47657, saving model to ./model.weights.best.hdf5\n",
      "50000/50000 - 1s - loss: 0.4844 - accuracy: 0.8385 - val_loss: 0.4766 - val_accuracy: 0.8357\n",
      "Epoch 4/20\n",
      "\n",
      "Epoch 00004: val_loss improved from 0.47657 to 0.46521, saving model to ./model.weights.best.hdf5\n",
      "50000/50000 - 1s - loss: 0.4616 - accuracy: 0.8439 - val_loss: 0.4652 - val_accuracy: 0.8404\n",
      "Epoch 5/20\n",
      "\n",
      "Epoch 00005: val_loss improved from 0.46521 to 0.45195, saving model to ./model.weights.best.hdf5\n",
      "50000/50000 - 1s - loss: 0.4451 - accuracy: 0.8485 - val_loss: 0.4520 - val_accuracy: 0.8447\n",
      "Epoch 6/20\n",
      "\n",
      "Epoch 00006: val_loss improved from 0.45195 to 0.44951, saving model to ./model.weights.best.hdf5\n",
      "50000/50000 - 1s - loss: 0.4356 - accuracy: 0.8518 - val_loss: 0.4495 - val_accuracy: 0.8457\n",
      "Epoch 7/20\n",
      "\n",
      "Epoch 00007: val_loss improved from 0.44951 to 0.44430, saving model to ./model.weights.best.hdf5\n",
      "50000/50000 - 1s - loss: 0.4266 - accuracy: 0.8548 - val_loss: 0.4443 - val_accuracy: 0.8474\n",
      "Epoch 8/20\n",
      "\n",
      "Epoch 00008: val_loss improved from 0.44430 to 0.43638, saving model to ./model.weights.best.hdf5\n",
      "50000/50000 - 1s - loss: 0.4189 - accuracy: 0.8577 - val_loss: 0.4364 - val_accuracy: 0.8486\n",
      "Epoch 9/20\n",
      "\n",
      "Epoch 00009: val_loss did not improve from 0.43638\n",
      "50000/50000 - 1s - loss: 0.4146 - accuracy: 0.8578 - val_loss: 0.4389 - val_accuracy: 0.8490\n",
      "Epoch 10/20\n",
      "\n",
      "Epoch 00010: val_loss improved from 0.43638 to 0.43087, saving model to ./model.weights.best.hdf5\n",
      "50000/50000 - 1s - loss: 0.4099 - accuracy: 0.8599 - val_loss: 0.4309 - val_accuracy: 0.8505\n",
      "Epoch 11/20\n",
      "\n",
      "Epoch 00011: val_loss improved from 0.43087 to 0.42689, saving model to ./model.weights.best.hdf5\n",
      "50000/50000 - 1s - loss: 0.4061 - accuracy: 0.8603 - val_loss: 0.4269 - val_accuracy: 0.8512\n",
      "Epoch 12/20\n",
      "\n",
      "Epoch 00012: val_loss did not improve from 0.42689\n",
      "50000/50000 - 1s - loss: 0.4020 - accuracy: 0.8623 - val_loss: 0.4286 - val_accuracy: 0.8518\n",
      "Epoch 13/20\n",
      "\n",
      "Epoch 00013: val_loss improved from 0.42689 to 0.42195, saving model to ./model.weights.best.hdf5\n",
      "50000/50000 - 1s - loss: 0.3987 - accuracy: 0.8620 - val_loss: 0.4220 - val_accuracy: 0.8537\n",
      "Epoch 14/20\n",
      "\n",
      "Epoch 00014: val_loss did not improve from 0.42195\n",
      "50000/50000 - 1s - loss: 0.3962 - accuracy: 0.8636 - val_loss: 0.4236 - val_accuracy: 0.8552\n",
      "Epoch 15/20\n",
      "\n",
      "Epoch 00015: val_loss improved from 0.42195 to 0.42116, saving model to ./model.weights.best.hdf5\n",
      "50000/50000 - 1s - loss: 0.3940 - accuracy: 0.8642 - val_loss: 0.4212 - val_accuracy: 0.8524\n",
      "Epoch 16/20\n",
      "\n",
      "Epoch 00016: val_loss did not improve from 0.42116\n",
      "50000/50000 - 1s - loss: 0.3908 - accuracy: 0.8655 - val_loss: 0.4249 - val_accuracy: 0.8546\n",
      "Epoch 17/20\n",
      "\n",
      "Epoch 00017: val_loss improved from 0.42116 to 0.42099, saving model to ./model.weights.best.hdf5\n",
      "50000/50000 - 1s - loss: 0.3896 - accuracy: 0.8657 - val_loss: 0.4210 - val_accuracy: 0.8566\n",
      "Epoch 18/20\n",
      "\n",
      "Epoch 00018: val_loss improved from 0.42099 to 0.41799, saving model to ./model.weights.best.hdf5\n",
      "50000/50000 - 1s - loss: 0.3874 - accuracy: 0.8661 - val_loss: 0.4180 - val_accuracy: 0.8542\n",
      "Epoch 19/20\n",
      "\n",
      "Epoch 00019: val_loss did not improve from 0.41799\n",
      "50000/50000 - 1s - loss: 0.3858 - accuracy: 0.8660 - val_loss: 0.4184 - val_accuracy: 0.8556\n",
      "Epoch 20/20\n",
      "\n",
      "Epoch 00020: val_loss improved from 0.41799 to 0.41604, saving model to ./model.weights.best.hdf5\n",
      "50000/50000 - 1s - loss: 0.3836 - accuracy: 0.8676 - val_loss: 0.4160 - val_accuracy: 0.8571\n",
      "10000/10000 - 0s - loss: 0.4430 - accuracy: 0.8458\n",
      "Final test loss and accuracy : [0.44300202360153196, 0.8458]\n"
     ]
    }
   ],
   "source": [
    "# build the model\n",
    "model = LogisticRegression(n_classes)\n",
    "# compile the model\n",
    "#optimiser = tf.train.GradientDescentOptimizer(learning_rate)\n",
    "optimiser =tf.keras.optimizers.Adam() #not supported in eager execution mode.\n",
    "model.compile(optimizer=optimiser, loss='categorical_crossentropy', metrics=['accuracy'], )\n",
    "\n",
    "# TF Keras tries to use the entire dataset to determine the shape without this step when using .fit()\n",
    "# So, use one sample of the provided input dataset size to determine input/output shapes for the model\n",
    "dummy_x = tf.zeros((1, width * height))\n",
    "model.call(dummy_x)\n",
    "\n",
    "\n",
    "checkpointer = ModelCheckpoint(filepath=\"./model.weights.best.hdf5\", verbose=2, save_best_only=True, save_weights_only=True)\n",
    "    # train the model\n",
    "model.fit(x_train, y_train_ohe, batch_size=batch_size, epochs=epochs,\n",
    "              validation_data=(x_valid, y_valid_ohe), callbacks=[checkpointer], verbose=2)\n",
    "    #load model with the best validation accuracy\n",
    "model.load_weights(\"./model.weights.best.hdf5\")\n",
    "\n",
    "    # evaluate the model on the test set\n",
    "scores = model.evaluate(x_test, y_test_ohe, batch_size, verbose=2)\n",
    "print(\"Final test loss and accuracy :\", scores)\n",
    "y_predictions = model.predict(x_test)\n"
   ]
  },
  {
   "cell_type": "code",
   "execution_count": 9,
   "metadata": {},
   "outputs": [
    {
     "name": "stdout",
     "output_type": "stream",
     "text": [
      "When prediction is  3\n",
      "ie. predicted label is Dress\n",
      "True label is  Dress\n",
      "\n",
      "\n",
      "Predicted V (True) fashion labels, green is correct, red is wrong\n"
     ]
    },
    {
     "data": {
      "image/png": "[encoded data removed]",
      "text/plain": [
       "<Figure size 1080x216 with 12 Axes>"
      ]
     },
     "metadata": {},
     "output_type": "display_data"
    }
   ],
   "source": [
    "    # example of one predicted versus one true fashion label\n",
    "index = 42\n",
    "index_predicted = np.argmax(y_predictions[index]) # largest label probability\n",
    "index_true = np.argmax(y_test_ohe[index]) # pick out index of element with a 1 in it\n",
    "print(\"When prediction is \",index_predicted)\n",
    "print(\"ie. predicted label is\", fashion_labels[index_predicted])\n",
    "print(\"True label is \",fashion_labels[index_true])\n",
    "\n",
    "\n",
    "print (\"\\n\\nPredicted V (True) fashion labels, green is correct, red is wrong\")\n",
    "size = 12 # i.e. 12 random numbers chosen out of x_test.shape[0] =1000, we do not replace them\n",
    "fig = plt.figure(figsize=(15,3))\n",
    "rows = 3\n",
    "cols = 4\n",
    "\n",
    "for i, index in enumerate(np.random.choice(x_test.shape[0], size = size, replace = False)):\n",
    "          axis = fig.add_subplot(rows,cols,i+1, xticks=[], yticks=[]) # position i+1 in grid with rows rows and cols columns\n",
    "          axis.imshow(x_test[index].reshape(width,height), cmap=\"Greys\")\n",
    "          index_predicted = np.argmax(y_predictions[index])\n",
    "          index_true = np.argmax(y_test_ohe[index])\n",
    "          axis.set_title((\"{} ({})\").format(fashion_labels[index_predicted],fashion_labels[index_true]),\n",
    "                                                  color=(\"green\" if index_predicted==index_true else \"red\"))\n"
   ]
  },
  {
   "cell_type": "code",
   "execution_count": null,
   "metadata": {},
   "outputs": [],
   "source": []
  },
  {
   "cell_type": "code",
   "execution_count": null,
   "metadata": {},
   "outputs": [],
   "source": []
  }
 ],
 "metadata": {
  "anaconda-cloud": {},
  "kernelspec": {
   "display_name": "Python 3",
   "language": "python",
   "name": "python3"
  },
  "language_info": {
   "codemirror_mode": {
    "name": "ipython",
    "version": 3
   },
   "file_extension": ".py",
   "mimetype": "text/x-python",
   "name": "python",
   "nbconvert_exporter": "python",
   "pygments_lexer": "ipython3",
   "version": "3.6.7"
  }
 },
 "nbformat": 4,
 "nbformat_minor": 1
}
