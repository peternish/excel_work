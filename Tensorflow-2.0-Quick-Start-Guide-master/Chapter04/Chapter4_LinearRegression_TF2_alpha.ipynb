{
 "cells": [
  {
   "cell_type": "code",
   "execution_count": 1,
   "metadata": {},
   "outputs": [
    {
     "name": "stdout",
     "output_type": "stream",
     "text": [
      "Using matplotlib backend: TkAgg\n"
     ]
    }
   ],
   "source": [
    "import tensorflow as tf\n",
    "import matplotlib.pyplot as plt\n",
    "%matplotlib\n",
    "import numpy as np\n"
   ]
  },
  {
   "cell_type": "code",
   "execution_count": 2,
   "metadata": {},
   "outputs": [],
   "source": [
    "n_examples = 1000 # number of training examples\n",
    "training_steps =400 # number of steps we are going to train for\n",
    "display_step = 10 # after multiples of this display the loss\n",
    "learning_rate = 0.01 # multipliying factor on gradient\n",
    "m, c = 6, -5 # gradient and y intercept of our line, edit these for a different linear problem"
   ]
  },
  {
   "cell_type": "code",
   "execution_count": 3,
   "metadata": {},
   "outputs": [],
   "source": [
    "# A dataset of points around mx + c\n",
    "def train_data(n, m, c):\n",
    "  x = tf.random.normal([n]) # n values taken from a normal distribution, mean = 0, SD =1\n",
    "  noise = tf.random.normal([n])# n values taken from a normal distribution, mean = 0, SD =1\n",
    "  y = m*x + c + noise # our scatter plot\n",
    "  return x, y"
   ]
  },
  {
   "cell_type": "code",
   "execution_count": 4,
   "metadata": {},
   "outputs": [],
   "source": [
    "def prediction(x, weight, bias):\n",
    "  return weight*x + bias # our predicted (learned)  m and c, expression is like y = m*x + c\n"
   ]
  },
  {
   "cell_type": "code",
   "execution_count": 5,
   "metadata": {},
   "outputs": [],
   "source": [
    "# A loss function using mean-squared error\n",
    "def loss(x, y, weights, biases):\n",
    "  error = prediction(x, weights, biases) - y #  how 'wrong' our predicted (learned)  y is\n",
    "  squared_error = tf.square(error)\n",
    "  return tf.reduce_mean(input_tensor=squared_error) # overall mean of squared error."
   ]
  },
  {
   "cell_type": "code",
   "execution_count": 6,
   "metadata": {},
   "outputs": [],
   "source": [
    "# Find the derivative of loss with respect to weight and bias\n",
    "def grad(x, y, weights, biases):\n",
    "  with tf.GradientTape() as tape:\n",
    "    loss_ = loss(x, y, weights, biases)\n",
    "  return tape.gradient(loss_, [weights, biases]) # direction and value of the gradient of our loss w.r.t weight and bias"
   ]
  },
  {
   "cell_type": "code",
   "execution_count": 7,
   "metadata": {},
   "outputs": [
    {
     "name": "stdout",
     "output_type": "stream",
     "text": [
      "Initial loss: 90.243\n"
     ]
    },
    {
     "data": {
      "image/png": "[encoded data removed]",
      "text/plain": [
       "<Figure size 432x288 with 1 Axes>"
      ]
     },
     "metadata": {
      "needs_background": "light"
     },
     "output_type": "display_data"
    }
   ],
   "source": [
    "# Start with random values for W and B on the same batch of data\n",
    "x, y = train_data(n_examples,m,c) # our training values x and  y\n",
    "plt.scatter(x,y)\n",
    "plt.xlabel(\"x\")\n",
    "plt.ylabel(\"y\")\n",
    "plt.title(\"Figure 1: Training Data\")\n",
    "W = tf.Variable(np.random.randn()) # initial, random, value for predicted weight (m)\n",
    "B = tf.Variable(np.random.randn()) # initial, random, value for predicted bias (c)\n",
    "\n",
    "print(\"Initial loss: {:.3f}\".format(loss(x, y, W, B)))"
   ]
  },
  {
   "cell_type": "code",
   "execution_count": 8,
   "metadata": {},
   "outputs": [
    {
     "name": "stdout",
     "output_type": "stream",
     "text": [
      "Loss at step 00: 86.817169\n",
      "Loss at step 10: 59.016361\n",
      "Loss at step 20: 40.217892\n",
      "Loss at step 30: 27.506660\n",
      "Loss at step 40: 18.911522\n",
      "Loss at step 50: 13.099622\n",
      "Loss at step 60: 9.169707\n",
      "Loss at step 70: 6.512362\n",
      "Loss at step 80: 4.715503\n",
      "Loss at step 90: 3.500499\n",
      "Loss at step 100: 2.678933\n",
      "Loss at step 110: 2.123400\n",
      "Loss at step 120: 1.747758\n",
      "Loss at step 130: 1.493754\n",
      "Loss at step 140: 1.322001\n",
      "Loss at step 150: 1.205863\n",
      "Loss at step 160: 1.127334\n",
      "Loss at step 170: 1.074233\n",
      "Loss at step 180: 1.038327\n",
      "Loss at step 190: 1.014048\n",
      "Loss at step 200: 0.997631\n",
      "Loss at step 210: 0.986530\n",
      "Loss at step 220: 0.979024\n",
      "Loss at step 230: 0.973949\n",
      "Loss at step 240: 0.970517\n",
      "Loss at step 250: 0.968196\n",
      "Loss at step 260: 0.966627\n",
      "Loss at step 270: 0.965566\n",
      "Loss at step 280: 0.964848\n",
      "Loss at step 290: 0.964363\n",
      "Loss at step 300: 0.964035\n",
      "Loss at step 310: 0.963813\n",
      "Loss at step 320: 0.963663\n",
      "Loss at step 330: 0.963562\n",
      "Loss at step 340: 0.963493\n",
      "Loss at step 350: 0.963447\n",
      "Loss at step 360: 0.963415\n",
      "Loss at step 370: 0.963394\n",
      "Loss at step 380: 0.963380\n",
      "Loss at step 390: 0.963370\n"
     ]
    }
   ],
   "source": [
    "for step in range(training_steps): #iterate for each training step\n",
    "    deltaW, deltaB = grad(x, y, W, B) # direction (sign)  and value of the gradient of our loss w.r.t weight and bias\n",
    "    change_W = deltaW * learning_rate # adjustment amount for weight\n",
    "    change_B = deltaB * learning_rate # adjustment amount for bias\n",
    "    W.assign_sub(change_W) # subract change_W from W\n",
    "    B.assign_sub(change_B) # subract change_B from B\n",
    "    if step==0 or step % display_step == 0:\n",
    "        # print(deltaW.numpy(), deltaB.numpy()) # uncomment if you want to see the gradients\n",
    "        print(\"Loss at step {:02d}: {:.6f}\".format(step, loss(x, y, W, B)))"
   ]
  },
  {
   "cell_type": "code",
   "execution_count": 9,
   "metadata": {},
   "outputs": [
    {
     "name": "stdout",
     "output_type": "stream",
     "text": [
      "Final loss: 0.963\n",
      "W = 6.004026412963867, B = -5.038877010345459\n",
      "Compared with m = 6.0, c = -5.0  of the original line\n"
     ]
    },
    {
     "data": {
      "text/plain": [
       "Text(0.5, 1.0, 'Figure 2: Line of Best Fit')"
      ]
     },
     "execution_count": 9,
     "metadata": {},
     "output_type": "execute_result"
    },
    {
     "data": {
      "image/png": "[encoded data removed]",
      "text/plain": [
       "<Figure size 432x288 with 1 Axes>"
      ]
     },
     "metadata": {
      "needs_background": "light"
     },
     "output_type": "display_data"
    }
   ],
   "source": [
    "print(\"Final loss: {:.3f}\".format(loss(x, y, W, B)))\n",
    "print(\"W = {}, B = {}\".format(W.numpy(), B.numpy()))\n",
    "print(\"Compared with m = {:.1f}, c = {:.1f}\".format(m, c),\" of the original line\")\n",
    "xs = np.linspace(-3, 4, 50)\n",
    "ys = W.numpy()*xs + B.numpy()\n",
    "plt.scatter(xs,ys)\n",
    "plt.xlabel(\"x\")\n",
    "plt.ylabel(\"y\")\n",
    "plt.title(\"Figure 2: Line of Best Fit\")"
   ]
  },
  {
   "cell_type": "code",
   "execution_count": null,
   "metadata": {},
   "outputs": [],
   "source": []
  },
  {
   "cell_type": "code",
   "execution_count": null,
   "metadata": {},
   "outputs": [],
   "source": []
  },
  {
   "cell_type": "code",
   "execution_count": null,
   "metadata": {},
   "outputs": [],
   "source": []
  }
 ],
 "metadata": {
  "kernelspec": {
   "display_name": "Python 3",
   "language": "python",
   "name": "python3"
  },
  "language_info": {
   "codemirror_mode": {
    "name": "ipython",
    "version": 3
   },
   "file_extension": ".py",
   "mimetype": "text/x-python",
   "name": "python",
   "nbconvert_exporter": "python",
   "pygments_lexer": "ipython3",
   "version": "3.6.7"
  }
 },
 "nbformat": 4,
 "nbformat_minor": 2
}
