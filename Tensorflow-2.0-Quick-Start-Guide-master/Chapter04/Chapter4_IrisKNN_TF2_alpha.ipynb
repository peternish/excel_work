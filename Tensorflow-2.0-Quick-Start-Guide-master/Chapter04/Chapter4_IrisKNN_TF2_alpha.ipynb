{
 "cells": [
  {
   "cell_type": "code",
   "execution_count": 1,
   "metadata": {},
   "outputs": [],
   "source": [
    "import numpy as np\n",
    "from sklearn import datasets\n",
    "import tensorflow as tf\n"
   ]
  },
  {
   "cell_type": "code",
   "execution_count": 2,
   "metadata": {},
   "outputs": [],
   "source": [
    "iris = datasets.load_iris()\n",
    "x = np.array([i for i in iris.data])\n",
    "y = np.array(iris.target)"
   ]
  },
  {
   "cell_type": "code",
   "execution_count": 3,
   "metadata": {},
   "outputs": [],
   "source": [
    "flower_labels = [\"iris setosa\", \"iris virginica\", \"iris versicolor\"]"
   ]
  },
  {
   "cell_type": "code",
   "execution_count": 4,
   "metadata": {},
   "outputs": [],
   "source": [
    "#one hot encoding\n",
    "y = np.eye(len(set(y)))[y]"
   ]
  },
  {
   "cell_type": "code",
   "execution_count": 5,
   "metadata": {},
   "outputs": [],
   "source": [
    "# normalise the x data to the range 0 to 1\n",
    "x = (x - x.min(axis=0)) / (x.max(axis=0) - x.min(axis=0))"
   ]
  },
  {
   "cell_type": "code",
   "execution_count": 6,
   "metadata": {},
   "outputs": [],
   "source": [
    "# create indices for the train-test split\n",
    "np.random.seed(42)\n",
    "split = 0.8 # this makes 120 train and 30 test features\n",
    "train_indices = np.random.choice(len(x), round(len(x) * split), replace=False)\n",
    "test_indices =np.array(list(set(range(len(x))) - set(train_indices)))"
   ]
  },
  {
   "cell_type": "code",
   "execution_count": 7,
   "metadata": {},
   "outputs": [],
   "source": [
    "# the train-test split\n",
    "train_x = x[train_indices]\n",
    "test_x = x[test_indices]\n",
    "train_y = y[train_indices]\n",
    "test_y = y[test_indices]"
   ]
  },
  {
   "cell_type": "code",
   "execution_count": 8,
   "metadata": {},
   "outputs": [],
   "source": [
    "#\n",
    "def prediction(train_x, test_x, train_y,k):\n",
    "    print(test_x)\n",
    "    d0 = tf.expand_dims(test_x, axis =1)\n",
    "    d1 = tf.subtract(train_x, d0)\n",
    "    d2 = tf.abs(d1)\n",
    "    distances = tf.reduce_sum(input_tensor=d2, axis=2)\n",
    "    print(distances)\n",
    "    # or\n",
    "    # distances = tf.reduce_sum(tf.abs(tf.subtract(train_x, tf.expand_dims(test_x, axis =1))), axis=2)\n",
    "    _, top_k_indices = tf.nn.top_k(tf.negative(distances), k=k)\n",
    "    top_k_labels = tf.gather(train_y, top_k_indices)\n",
    "    predictions_sum = tf.reduce_sum(input_tensor=top_k_labels, axis=1)\n",
    "    pred = tf.argmax(input=predictions_sum, axis=1)\n",
    "    return pred"
   ]
  },
  {
   "cell_type": "code",
   "execution_count": 9,
   "metadata": {},
   "outputs": [],
   "source": [
    "k = 5"
   ]
  },
  {
   "cell_type": "code",
   "execution_count": null,
   "metadata": {},
   "outputs": [],
   "source": []
  },
  {
   "cell_type": "code",
   "execution_count": 10,
   "metadata": {},
   "outputs": [
    {
     "name": "stdout",
     "output_type": "stream",
     "text": [
      "[[0.16666667 0.41666667 0.06779661 0.04166667]\n",
      " [0.80555556 0.41666667 0.81355932 0.625     ]\n",
      " [0.86111111 0.33333333 0.86440678 0.75      ]\n",
      " [0.66666667 0.45833333 0.77966102 0.95833333]\n",
      " [0.41666667 0.83333333 0.03389831 0.04166667]\n",
      " [0.66666667 0.54166667 0.79661017 1.        ]\n",
      " [0.30555556 0.58333333 0.11864407 0.04166667]\n",
      " [0.22222222 0.70833333 0.08474576 0.125     ]\n",
      " [0.44444444 0.41666667 0.69491525 0.70833333]\n",
      " [0.16666667 0.66666667 0.06779661 0.        ]\n",
      " [0.05555556 0.125      0.05084746 0.08333333]\n",
      " [0.27777778 0.70833333 0.08474576 0.04166667]\n",
      " [0.72222222 0.45833333 0.66101695 0.58333333]\n",
      " [0.16666667 0.16666667 0.38983051 0.375     ]\n",
      " [0.63888889 0.375      0.61016949 0.5       ]\n",
      " [0.5        0.33333333 0.50847458 0.5       ]\n",
      " [0.58333333 0.375      0.55932203 0.5       ]\n",
      " [0.55555556 0.125      0.57627119 0.5       ]\n",
      " [0.36111111 0.41666667 0.52542373 0.5       ]\n",
      " [0.33333333 0.25       0.57627119 0.45833333]\n",
      " [0.5        0.41666667 0.61016949 0.54166667]\n",
      " [0.41666667 0.25       0.50847458 0.45833333]\n",
      " [0.38888889 0.33333333 0.52542373 0.5       ]\n",
      " [0.77777778 0.41666667 0.83050847 0.83333333]\n",
      " [0.55555556 0.375      0.77966102 0.70833333]\n",
      " [0.16666667 0.20833333 0.59322034 0.66666667]\n",
      " [0.83333333 0.375      0.89830508 0.70833333]\n",
      " [0.61111111 0.41666667 0.76271186 0.70833333]\n",
      " [0.36111111 0.33333333 0.66101695 0.79166667]\n",
      " [0.66666667 0.54166667 0.79661017 0.83333333]]\n",
      "tf.Tensor(\n",
      "[[1.39265537 0.64806968 2.75164783 ... 1.83851224 1.07815443 1.13206215]\n",
      " [0.74199623 1.98658192 0.7836629  ... 0.46280603 1.22316384 1.08592279]\n",
      " [0.89006591 2.30131827 0.46892655 ... 0.52754237 1.37123352 1.23399247]\n",
      " ...\n",
      " [0.58003766 1.82462335 0.94562147 ... 0.13418079 1.06120527 0.92396422]\n",
      " [0.50612053 1.69515066 1.13064972 ... 0.38418079 0.76506591 0.5722693 ]\n",
      " [0.91949153 1.91407721 0.85616761 ... 0.30696798 1.40065913 1.26341808]], shape=(30, 120), dtype=float64)\n",
      "Predicted        Actual\n",
      "---------        ------\n",
      "0 iris setosa \t iris setosa\n",
      "1 iris versicolor \t iris versicolor\n",
      "2 iris versicolor \t iris versicolor\n",
      "3 iris versicolor \t iris versicolor\n",
      "4 iris setosa \t iris setosa\n",
      "5 iris versicolor \t iris versicolor\n",
      "6 iris setosa \t iris setosa\n",
      "7 iris setosa \t iris setosa\n",
      "8 iris versicolor \t iris versicolor\n",
      "9 iris setosa \t iris setosa\n",
      "10 iris setosa \t iris setosa\n",
      "11 iris setosa \t iris setosa\n",
      "12 iris virginica \t iris virginica\n",
      "13 iris virginica \t iris virginica\n",
      "14 iris virginica \t iris virginica\n",
      "15 iris virginica \t iris virginica\n",
      "16 iris virginica \t iris virginica\n",
      "17 iris virginica \t iris virginica\n",
      "18 iris virginica \t iris virginica\n",
      "19 iris virginica \t iris virginica\n",
      "20 iris virginica \t iris virginica\n",
      "21 iris virginica \t iris virginica\n",
      "22 iris virginica \t iris virginica\n",
      "23 iris versicolor \t iris versicolor\n",
      "24 iris versicolor \t iris versicolor\n",
      "25 iris virginica \t iris versicolor\n",
      "26 iris versicolor \t iris versicolor\n",
      "27 iris versicolor \t iris versicolor\n",
      "28 iris versicolor \t iris versicolor\n",
      "29 iris versicolor \t iris versicolor\n",
      "Accuracy =  96.7 %\n"
     ]
    }
   ],
   "source": [
    "i, total = 0 , 0\n",
    "results = zip(prediction(train_x, test_x, train_y,k), test_y) #concatenate predicted label with actual label\n",
    "print(\"Predicted        Actual\")\n",
    "print(\"---------        ------\")\n",
    "for pred, actual in results:\n",
    "    print(i, flower_labels[pred.numpy()],\"\\t\",flower_labels[np.argmax(actual)] )\n",
    "    if pred.numpy() == np.argmax(actual):\n",
    "        total += 1\n",
    "    i += 1\n",
    "accuracy = round(total/len(test_x),3)*100\n",
    "print(\"Accuracy = \",accuracy,\"%\")"
   ]
  },
  {
   "cell_type": "code",
   "execution_count": null,
   "metadata": {},
   "outputs": [],
   "source": []
  },
  {
   "cell_type": "code",
   "execution_count": null,
   "metadata": {},
   "outputs": [],
   "source": []
  }
 ],
 "metadata": {
  "kernelspec": {
   "display_name": "Python 3",
   "language": "python",
   "name": "python3"
  },
  "language_info": {
   "codemirror_mode": {
    "name": "ipython",
    "version": 3
   },
   "file_extension": ".py",
   "mimetype": "text/x-python",
   "name": "python",
   "nbconvert_exporter": "python",
   "pygments_lexer": "ipython3",
   "version": "3.6.7"
  }
 },
 "nbformat": 4,
 "nbformat_minor": 2
}
