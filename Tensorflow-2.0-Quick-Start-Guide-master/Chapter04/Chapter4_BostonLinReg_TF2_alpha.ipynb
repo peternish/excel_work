{
 "cells": [
  {
   "cell_type": "code",
   "execution_count": null,
   "metadata": {},
   "outputs": [],
   "source": [
    "import tensorflow as tf\n",
    "from sklearn.datasets import load_boston\n",
    "from sklearn.preprocessing import scale\n",
    "import numpy as np\n"
   ]
  },
  {
   "cell_type": "code",
   "execution_count": null,
   "metadata": {},
   "outputs": [],
   "source": [
    "learning_rate = 0.01\n",
    "epochs = 10000\n",
    "display_epoch = epochs//20\n",
    "n_train = 300\n",
    "n_valid = 100\n"
   ]
  },
  {
   "cell_type": "code",
   "execution_count": null,
   "metadata": {},
   "outputs": [],
   "source": [
    "features, prices = load_boston(True)\n",
    "n_test = len(features) - n_train - n_valid\n",
    "\n",
    "# Keep n_train samples for training\n",
    "train_features = tf.cast(scale(features[:n_train]), dtype=tf.float32) #\n",
    "train_prices = prices[:n_train]\n",
    "\n",
    "# Keep n_valid samples for validation\n",
    "valid_features = tf.cast(scale(features[n_train:n_train+n_valid]), dtype=tf.float32)\n",
    "valid_prices = prices[n_train:n_train+n_valid]\n",
    "\n",
    "# Keep remaining n_test data points as test set\n",
    "test_features = tf.cast(scale(features[n_train+n_valid:n_train+n_valid+n_test]), dtype=tf.float32)\n",
    "test_prices = prices[n_train + n_valid : n_train + n_valid + n_test]\n",
    "\n"
   ]
  },
  {
   "cell_type": "code",
   "execution_count": null,
   "metadata": {},
   "outputs": [],
   "source": [
    "# functio returning the predicted value of y\n",
    "def prediction(x, weights, bias):\n",
    "  return tf.add(tf.matmul(x,weights), bias) # our predicted (learned)  m and c, expression is like y = m*x + c\n"
   ]
  },
  {
   "cell_type": "code",
   "execution_count": null,
   "metadata": {},
   "outputs": [],
   "source": [
    "# A loss function using root mean-squared error\n",
    "def loss(x, y, weights, bias):\n",
    "  error = prediction(x, weights, bias) - y #  how 'wrong' our predicted (learned)  y is\n",
    "  squared_error = tf.square(error)\n",
    "  return tf.sqrt(tf.reduce_mean(input_tensor=squared_error)) # squre root of overall mean of squared error."
   ]
  },
  {
   "cell_type": "code",
   "execution_count": null,
   "metadata": {},
   "outputs": [],
   "source": [
    "# Find the derivative of loss with respect to weight and bias\n",
    "def gradient(x, y, weights, bias):\n",
    "  with tf.GradientTape() as tape:\n",
    "    loss_value = loss(x, y, weights, bias)\n",
    "  return tape.gradient(loss_value, [weights, bias])# direction and value of the gradient of our weight and bias"
   ]
  },
  {
   "cell_type": "code",
   "execution_count": null,
   "metadata": {},
   "outputs": [],
   "source": [
    "# accuracy = Number of true predictions/Total predictions\n",
    "#accuracy = tf.reduce_mean(tf.cast(correct_prediction, tf.float32))\n",
    "        #print(\"Accuracy:\", accuracy.eval({X: X_test, y: y_test}))\n",
    "def accuracy(y_true,y_predicted):\n",
    "    return tf.sqrt(tf.reduce_mean(input_tensor=tf.square(y_predicted-y_true)))"
   ]
  },
  {
   "cell_type": "code",
   "execution_count": null,
   "metadata": {},
   "outputs": [],
   "source": [
    "# Start with random values for W and B on the same batch of data\n",
    "W = tf.Variable(tf.random.normal([13, 1],mean=0.0, stddev=1.0, dtype=tf.float32))\n",
    "B = tf.Variable(tf.zeros(1) , dtype = tf.float32)\n",
    "print(W,B)\n",
    "print(\"Initial loss: {:.3f}\".format(loss(train_features, train_prices,W, B)))"
   ]
  },
  {
   "cell_type": "code",
   "execution_count": null,
   "metadata": {},
   "outputs": [],
   "source": [
    "for e in range(epochs): #iterate for each training epoch\n",
    "    deltaW, deltaB = gradient(train_features, train_prices, W, B) # direction (sign)  and value of the gradient of our weight and bias\n",
    "    change_W = deltaW * learning_rate # adjustment amount for weight\n",
    "    change_B = deltaB * learning_rate # adjustment amount for bias\n",
    "    W.assign_sub(change_W) # subract from W\n",
    "    B.assign_sub(change_B) # subract from B\n",
    "    if e==0 or e % display_epoch == 0:\n",
    "        # print(deltaW.numpy(), deltaB.numpy()) # uncomment if you want to see the gradients\n",
    "        print(\"Validation loss after epoch {:02d}: {:.3f}\".format(e, loss(valid_features, valid_prices, W, B)))"
   ]
  },
  {
   "cell_type": "code",
   "execution_count": null,
   "metadata": {},
   "outputs": [],
   "source": [
    "print(\"Final validation loss: {:.3f}\".format(loss(train_features, train_prices, W, B)))\n",
    "print(\"Final test loss: {:.3f}\".format(loss(test_features, test_prices, W, B)))\n",
    "print(\"W = {}, B = {}\".format(W.numpy(), B.numpy()))\n"
   ]
  },
  {
   "cell_type": "raw",
   "metadata": {},
   "source": []
  },
  {
   "cell_type": "markdown",
   "metadata": {},
   "source": [
    "#### example house"
   ]
  },
  {
   "cell_type": "code",
   "execution_count": null,
   "metadata": {},
   "outputs": [],
   "source": [
    "example_house = 69\n",
    "y = test_prices[example_house]\n",
    "y_pred = prediction(test_features,W.numpy(),B.numpy())[example_house]\n",
    "print(\"Actual median house value\",y,\" in $10K\")\n",
    "print(\"Predicted median house value \",y_pred.numpy(),\" in $10K\")"
   ]
  },
  {
   "cell_type": "code",
   "execution_count": null,
   "metadata": {},
   "outputs": [],
   "source": []
  },
  {
   "cell_type": "code",
   "execution_count": null,
   "metadata": {},
   "outputs": [],
   "source": []
  },
  {
   "cell_type": "code",
   "execution_count": null,
   "metadata": {},
   "outputs": [],
   "source": []
  },
  {
   "cell_type": "code",
   "execution_count": null,
   "metadata": {},
   "outputs": [],
   "source": []
  },
  {
   "cell_type": "code",
   "execution_count": null,
   "metadata": {},
   "outputs": [],
   "source": []
  },
  {
   "cell_type": "code",
   "execution_count": null,
   "metadata": {},
   "outputs": [],
   "source": []
  },
  {
   "cell_type": "code",
   "execution_count": null,
   "metadata": {},
   "outputs": [],
   "source": []
  },
  {
   "cell_type": "code",
   "execution_count": null,
   "metadata": {},
   "outputs": [],
   "source": []
  },
  {
   "cell_type": "code",
   "execution_count": null,
   "metadata": {},
   "outputs": [],
   "source": []
  }
 ],
 "metadata": {
  "kernelspec": {
   "display_name": "Python 3",
   "language": "python",
   "name": "python3"
  },
  "language_info": {
   "codemirror_mode": {
    "name": "ipython",
    "version": 3
   },
   "file_extension": ".py",
   "mimetype": "text/x-python",
   "name": "python",
   "nbconvert_exporter": "python",
   "pygments_lexer": "ipython3",
   "version": "3.6.7"
  }
 },
 "nbformat": 4,
 "nbformat_minor": 2
}
