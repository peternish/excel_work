{
 "cells": [
  {
   "cell_type": "markdown",
   "metadata": {
    "collapsed": false,
    "id": "XLjsvhkuS2eJ"
   },
   "source": [
    "# Learning to Invert Heat Conduction with Scale-invariant Updates\n",
    "\n",
    "We now turn to a practical example that use the scale-invariant physics (SIP) updates in a more complex example. Specifically, we'll consider the heat equation, which poses some particularly interesting challenges: the differentiable physics (DP) gradient just diffuses more, while the inversion is numerically challenging. Below, we'll explain how SIPs adress the former, while a special solver can address the latter issue.\n",
    "\n",
    "The notebook below provides a full implementation via _phiflow_ to generate data, run the DP version, and compute the improved SIP updates.\n",
    "[[run in colab]](https://colab.research.google.com/github/tum-pbs/pbdl-book/blob/main/physgrad-code.ipynb)\n",
    "\n",
    "\n"
   ]
  },
  {
   "cell_type": "markdown",
   "metadata": {
    "id": "9fETS9hwrQrc"
   },
   "source": [
    "## Problem Statement\n",
    "\n",
    "We consider a two-dimensional system governed by the heat equation $\\frac{\\partial u}{\\partial t} = \\nu \\cdot \\nabla^2 u$.\n",
    "Given an initial state $x = u(t_0)$ at $t_0$, the simulator computes the state at a later time $t_*$ via $y = u(t_*) = \\mathcal P(x)$.\n",
    "Exactly inverting this system is only possible for $t \\cdot \\nu = 0$ and becomes increasingly unstable for larger $t \\cdot \\nu$ because initially distinct heat levels even out over time, drowning the original information in noise.\n",
    "Hence the Jacobian of the physics $\\frac{\\partial y}{\\partial x}$ is near-singular.\n",
    "\n",
    "We'll use periodic boundary conditions and compute the result in frequency space where the physics can be computed analytically as $\\hat y = \\hat x \\cdot e^{-k^2 (t_* - t_0)} $ , where $\\hat y_k \\equiv \\mathcal F(y)_k$ denotes the $k$-th element of the Fourier-transformed vector $y$.\n",
    "In the regular _forward_ simulation, high frequencies are dampened exponentially. We'll need to revisit this aspect for the inverse simulator.\n",
    "\n",
    "To summarize, the inverse problem we're targeting here can be written as minimizing: \n",
    "\n",
    "$$L(x) = || \\mathcal P(x) - y^* ||_2^2 = || \\mathcal F^{-1}\\left( \\mathcal F(x) \\cdot e^{-k^2 (t_* - t_0)} \\right) - y^* ||_2^2 . $$\n",
    "\n"
   ]
  },
  {
   "cell_type": "markdown",
   "metadata": {
    "id": "EA7qc5mXsZLU"
   },
   "source": [
    "---\n",
    "\n",
    "## Implementation\n",
    "\n",
    "Below, we'll set $t\\cdot \\nu = 8$ on a domain consisting of 64x64 cells of unit length.\n",
    "This level of diffusion is challenging, and diffuses most details while leaving only the large-scale structure intact.\n",
    "\n",
    "We'll use phiflow with PyTorch as default backend, but this example code likewise runs with TensorFlow (just switch to `phi.tf.flow` below).\n",
    "\n"
   ]
  },
  {
   "cell_type": "code",
   "execution_count": null,
   "metadata": {
    "id": "vN06frDqS2eM",
    "pycharm": {
     "name": "#%%\n"
    }
   },
   "outputs": [],
   "source": [
    "!pip install --upgrade --quiet phiflow==2.2\n",
    "#!pip install --upgrade --quiet git+https://github.com/tum-pbs/PhiFlow\n",
    "from phi.torch.flow import *    # switch to TF with \"phi.tf.flow\""
   ]
  },
  {
   "cell_type": "markdown",
   "metadata": {
    "collapsed": false,
    "id": "fc6Am-XcS2eN"
   },
   "source": [
    "\n",
    "## Data generation\n",
    "\n",
    "For training, we generate $x^*$ by randomly placing between 4 and 10 \"hot\" rectangles of random size and shape in the domain. The `generate_heat_example()` function below generates a full mini batch (via `shape.batch`) of example positions. These will be $x$ later on. They're never passed to the solver, but should be reconstructed by the neural network.\n",
    "\n"
   ]
  },
  {
   "cell_type": "code",
   "execution_count": null,
   "metadata": {
    "id": "-39wQc1ES2eN",
    "pycharm": {
     "name": "#%%\n"
    }
   },
   "outputs": [],
   "source": [
    "def generate_heat_example(*shape, bounds: Box = None):\n",
    "    shape = math.merge_shapes(*shape)\n",
    "    heat_t0 = CenteredGrid(0, extrapolation.PERIODIC, bounds, resolution=shape.spatial)\n",
    "    bounds = heat_t0.bounds\n",
    "    component_counts = math.to_int32(4 + 7 * math.random_uniform(shape.batch))\n",
    "    positions = (math.random_uniform(shape.batch, batch(components=10), channel(vector=shape.spatial.names)) - 0.5) * bounds.size * 0.8 + bounds.size * 0.5\n",
    "    for i in range(10):\n",
    "        position = positions.components[i]\n",
    "        half_size = math.random_uniform(shape.batch, channel(vector=shape.spatial.names)) * 10\n",
    "        strength = math.random_uniform(shape.batch) * math.to_float(i < component_counts)\n",
    "        position = math.clip(position, bounds.lower + half_size, bounds.upper - half_size)\n",
    "        component_box = Cuboid(position, half_size)\n",
    "        component_mask = SoftGeometryMask(component_box)\n",
    "        component_mask = component_mask.at(heat_t0)\n",
    "        heat_t0 += component_mask * strength\n",
    "    return heat_t0"
   ]
  },
  {
   "cell_type": "markdown",
   "metadata": {
    "collapsed": false,
    "id": "sz_eZyZ7S2eO"
   },
   "source": [
    "The data is generated on-the-fly later during training, but let's look at two example $x$ for now using phiflow's `vis.plot` function:"
   ]
  },
  {
   "cell_type": "code",
   "execution_count": null,
   "metadata": {
    "colab": {
     "base_uri": "https://localhost:8080/",
     "height": 390
    },
    "id": "BHtnPdL3S2eO",
    "outputId": "3dbf4cca-015b-4e9d-8274-acea430c6ecd",
    "pycharm": {
     "name": "#%%\n"
    }
   },
   "outputs": [
    {
     "data": {
      "image/png": "[encoded data removed]",
      "text/plain": [
       "<Figure size 864x360 with 4 Axes>"
      ]
     },
     "metadata": {
      "needs_background": "light"
     },
     "output_type": "display_data"
    }
   ],
   "source": [
    "vis.plot(generate_heat_example(batch(view_examples=2), spatial(x=64, y=64)));"
   ]
  },
  {
   "cell_type": "markdown",
   "metadata": {
    "collapsed": false,
    "id": "XURdC4v_S2eP"
   },
   "source": [
    "\n",
    "## Differentiable physics and gradient descent\n",
    "\n",
    "Nothing in this setup so far prevents us from using regular DP training, as described in {doc}`diffphys`.\n",
    "For this diffusion case, we can write out\n",
    "gradient descent update from in an analytic fashion as:\n",
    "$$\\Delta x_{\\text{GD}} = - \\eta \\cdot \\mathcal F^{-1}\\left( e^{-k^2 (t_* - t_0)} \\mathcal F(y - y^*) \\right).$$\n",
    "\n",
    "Looking at this expression, it means that gradient descent (GD) with the gradient from the differentiable simulator applies the forward physics to the gradient vector itself. This is surprising: the forward simulation performs diffusion, and now the backward pass performs even more of it, instead of somehow undoing the diffusion? Unfortunately, this is the inherent and \"correct\" behavior of DP, and it results in updates that are stable but lack high frequency spatial information.\n",
    "\n",
    "Consequently, GD-based optimization methods converge slowly on this task after fitting the coarse structure and have severe problems in recovering high-frequency details, as will be demonstrated below.\n",
    "This is not because the information is fundamentally missing but because GD cannot adequately process high-frequency details.\n",
    "\n",
    "For the implementation below, we will simply use `y = diffuse.fourier(x, 8., 1)` for the forward pass, and then similarly compute an $L^2$ loss for two $y$ fields to which `diffuse.fourier( , 8., 1)` is applied.\n",
    "\n"
   ]
  },
  {
   "cell_type": "markdown",
   "metadata": {
    "id": "EUIM1Av5vlfR"
   },
   "source": [
    "## Stable SIP gradients\n",
    "\n",
    "What is more interesting in the context of this chapter is the improved update step computed via the inverse simulator, the _SIP_ update. In line with the previous sections, we'll call this update $\\Delta x_{\\text{PG}}.$\n",
    "\n",
    "The frequency formulation of the heat equation can be inverted analytically, yielding\n",
    "$\\hat x_k = \\hat y_k \\cdot e^{k^2 (t_* - t_0)}$.\n",
    "This allows us to define the update \n",
    "\n",
    "$$\\Delta x_{\\text{PG}} = - \\eta \\cdot \\mathcal F^{-1}\\left( e^{k^2 (t_* - t_0)} \\mathcal F(y - y^*) \\right).$$\n",
    "\n",
    "Here, high frequencies are multiplied by exponentially large factors, resulting in numerical instabilities.\n",
    "When applying this formula directly to the gradients, it can lead to large oscillations in $\\Delta x_{\\text{PG}}$.\n",
    "\n",
    "Note that these numerical instabilities also occur when computing the gradients in real space instead of frequency space.\n",
    "However, frequency space allows us to more easily quantify them.\n",
    "\n",
    "Now we can leverage our knowledge of the physical simulation process to construct a stable inverse:\n",
    "the numerical instabilities can be avoided by taking a probabilistic viewpoint.\n",
    "The observed values $y$ contain a certain amount of noise $n$, with the remainder constituting the signal $s = y - n$.\n",
    "For the noise, we assume a normal distribution $n \\sim \\mathcal N(0, \\epsilon \\cdot y)$ with $\\epsilon > 0$ and for the signal, we assume that it arises from reasonable values of $x$ so that $y \\sim \\mathcal N(0, \\delta \\cdot e^{-k^2})$ with $\\delta > 0$.\n",
    "With this, we can estimate the probability of an observed value arising from the signal using Bayes' theorem\n",
    "$p(s | v) = \\frac{p(v | s) \\cdot p(s)}{p(v | s) \\cdot p(s) + p(v | n) \\cdot p(n)}$ where we assume the priors $p(s) = p(n) = \\frac 1 2$.\n",
    "Based on this probability, we dampen the amplification of the inverse physics which yields a stable inverse.\n",
    "\n",
    "Gradients computed in this way hold as much high-frequency information as can be extracted given the noise that is present.\n",
    "This leads to a much faster convergence and more precise solution than any generic optimization method.\n",
    "The cell below implements this probabilistic approach, with `probability_signal` in `apply_damping()` containing the parts of the signal to be dampened.\n",
    "The `inv_diffuse()` functions employs it to compute a stabilized inverse diffusion process.\n"
   ]
  },
  {
   "cell_type": "code",
   "execution_count": null,
   "metadata": {
    "id": "jJFlJlRwS2eP",
    "pycharm": {
     "name": "#%%\n"
    }
   },
   "outputs": [],
   "source": [
    "def apply_damping(kernel, inv_kernel, amp, f_uncertainty, log_kernel):\n",
    "    signal_prior = 0.5\n",
    "    expected_amp = 1. * kernel.shape.get_size('x') * inv_kernel  # This can be measured\n",
    "    signal_likelihood = math.exp(-0.5 * (abs(amp) / expected_amp) ** 2) * signal_prior  # this can be NaN\n",
    "    signal_likelihood = math.where(math.isfinite(signal_likelihood), signal_likelihood, math.zeros_like(signal_likelihood))\n",
    "    noise_likelihood = math.exp(-0.5 * (abs(amp) / f_uncertainty) ** 2) * (1 - signal_prior)\n",
    "    probability_signal = math.divide_no_nan(signal_likelihood, (signal_likelihood + noise_likelihood))\n",
    "    action = math.where((0.5 >= probability_signal) | (probability_signal >= 0.68), 2 * (probability_signal - 0.5), 0.)  # 1 sigma required to take action\n",
    "    prob_kernel = math.exp(log_kernel * action)\n",
    "    return prob_kernel, probability_signal\n",
    "\n",
    "\n",
    "def inv_diffuse(grid: Grid, amount: float, uncertainty: Grid):\n",
    "    f_uncertainty: math.Tensor = math.sqrt(math.sum(uncertainty.values ** 2, dim='x,y'))  # all frequencies have the same uncertainty, 1/N in iFFT\n",
    "    k_squared: math.Tensor = math.sum(math.fftfreq(grid.shape, grid.dx) ** 2, 'vector')\n",
    "    fft_laplace: math.Tensor = -(2 * np.pi) ** 2 * k_squared\n",
    "    # --- Compute sharpening kernel with damping ---\n",
    "    log_kernel = fft_laplace * -amount\n",
    "    log_kernel_clamped = math.minimum(log_kernel, math.to_float(math.floor(math.log(math.wrap(np.finfo(np.float32).max)))))  # avoid overflow\n",
    "    raw_kernel = math.exp(log_kernel_clamped)  # inverse diffusion FFT kernel, all values >= 1\n",
    "    inv_kernel = math.exp(-log_kernel)\n",
    "    amp = math.fft(grid.values)\n",
    "    kernel, sig_prob = apply_damping(raw_kernel, inv_kernel, amp, f_uncertainty, log_kernel)\n",
    "    # --- Apply and compute uncertainty ---\n",
    "    data = math.real(math.ifft(amp * math.to_complex(kernel)))\n",
    "    uncertainty = math.sqrt(math.sum(((f_uncertainty * kernel) ** 2))) / grid.shape.get_size('x')  # 1/N normalization in iFFT\n",
    "    uncertainty = grid * 0 + uncertainty\n",
    "    return grid.with_values(data), uncertainty, abs(amp), raw_kernel, kernel, sig_prob"
   ]
  },
  {
   "cell_type": "markdown",
   "metadata": {
    "collapsed": false,
    "id": "Prft7mS6S2eQ"
   },
   "source": [
    "## Neural network and loss function\n",
    "\n",
    "For the neural network, we use a simple U-net architecture for the SIP and the regular DP+Adam version (in line with the previous sections, we'll denote it as `GD`). \n",
    "We train with a batch size of 128 and a constant learning rate of $\\eta = 10^{-3}$, using 64 bit precision for physics but 32 bits for the network.\n",
    "The network updates are computed with TensorFlow's or PyTorch's automatic differentiation.\n",
    "\n"
   ]
  },
  {
   "cell_type": "code",
   "execution_count": null,
   "metadata": {
    "id": "edLI4HnjS2eR",
    "pycharm": {
     "name": "#%%\n"
    }
   },
   "outputs": [],
   "source": [
    "math.set_global_precision(64)\n",
    "BATCH = batch(batch=128)\n",
    "STEPS = 50\n",
    "\n",
    "math.seed(0)\n",
    "net = u_net(1, 1)\n",
    "optimizer = adam(net, 0.001)"
   ]
  },
  {
   "cell_type": "markdown",
   "metadata": {
    "collapsed": false,
    "id": "lkkXZc_kS2eR"
   },
   "source": [
    "Now we'll define loss function for phiflow.\n",
    "The gradients for the network weights are always computed as d(loss_function)/d$\\theta$.\n",
    "\n",
    "For SIP, we invert the physics, and then define the proxy loss as $L^2$(prediction - correction), where correction is taken as constant. Below this is realized via `x = field.stop_gradient(prediction)`. This L2 loss triggers the backprop towards the neural network weights. For SIP, the `y_l2` is only computed for comparison, and is not crucial for training.\n",
    "\n",
    "The Adam / GD version for `sip=False` simply computes the L2 difference of the predicted, diffused $y$ field to the target, and backprops through the operations for the gradient.\n",
    "\n",
    "We also compute the reference $y = \\mathcal P(x^*)$ in the loss function on-the-fly.\n"
   ]
  },
  {
   "cell_type": "code",
   "execution_count": null,
   "metadata": {
    "id": "aUKHZMwkS2eR",
    "pycharm": {
     "name": "#%%\n"
    }
   },
   "outputs": [],
   "source": [
    "# @math.jit_compile\n",
    "def loss_function(net, x_gt: CenteredGrid, sip: bool):\n",
    "    y_target = diffuse.fourier(x_gt, 8., 1)\n",
    "    with math.precision(32):\n",
    "        prediction = field.native_call(net, field.to_float(y_target)).vector[0]\n",
    "        prediction += field.mean(x_gt) - field.mean(prediction)\n",
    "    x = field.stop_gradient(prediction)\n",
    "    if sip:\n",
    "        y = diffuse.fourier(x, 8., 1)\n",
    "        dx, _, amp, raw_kernel, kernel, sig_prob = inv_diffuse(y_target - y, 8., uncertainty=abs(y_target - y) * 1e-6)\n",
    "        correction = x + dx\n",
    "        y_l2 = field.l2_loss(y - y_target)  # not important, just for tracking \n",
    "        loss = field.l2_loss(prediction - correction) # proxy L2 loss for network\n",
    "    else:\n",
    "        y = diffuse.fourier(prediction, 8., 1)\n",
    "        loss = y_l2 = field.l2_loss(y - y_target) # for Adam we backprop through the loss and y\n",
    "    return loss, x, y, field.l2_loss(x_gt - x), y_l2\n"
   ]
  },
  {
   "cell_type": "markdown",
   "metadata": {
    "collapsed": false,
    "id": "0L142o1OS2eS"
   },
   "source": [
    "## Training\n",
    "\n",
    "In the training loop, we generate data on-the-fly via `generate_heat_example()` and use phiflow's `update_weights()` function to call the correct functions of the chosen backend. Note that we're only printing the loss of the first 5 steps below for clarity, the whole history is collected in the `loss_` lists. The following cell runs the SIP version of the training:\n"
   ]
  },
  {
   "cell_type": "code",
   "execution_count": null,
   "metadata": {
    "colab": {
     "base_uri": "https://localhost:8080/"
    },
    "id": "PK47PUNKaeA0",
    "outputId": "4d938ed4-484b-46df-d0ca-d2268cb97dd0"
   },
   "outputs": [
    {
     "name": "stdout",
     "output_type": "stream",
     "text": [
      "SIP L2 loss x ; y: 187.2586057892786 ; 59.48433060883144\n",
      "SIP L2 loss x ; y: 70.21347147390776 ; 13.783476203544797\n",
      "SIP L2 loss x ; y: 51.91472605336263 ; 5.72813432496525\n",
      "SIP L2 loss x ; y: 39.46109317565444 ; 4.4424629873554045\n",
      "SIP L2 loss x ; y: 34.611490797378366 ; 3.359133206049436\n"
     ]
    }
   ],
   "source": [
    "loss_sip_x=[]; loss_sip_y=[] \n",
    "for training_step in range(STEPS):\n",
    "    data = generate_heat_example(spatial(x=64, y=64), BATCH)\n",
    "    loss_value, x_sip, y_sip, x_l2, y_l2 = update_weights(net, optimizer, loss_function, net, data, sip=True)\n",
    "    loss_sip_x.append(float(x_l2.mean)) \n",
    "    loss_sip_y.append(float(y_l2.mean))\n",
    "    if(training_step<5): print(\"SIP L2 loss x ; y: \"+format(float(x_l2.mean))+\" ; \"+format(float(y_l2.mean)) )"
   ]
  },
  {
   "cell_type": "markdown",
   "metadata": {
    "id": "32HFjc2y7noA"
   },
   "source": [
    "And now we can repeat the training with the DP version using Adam, deactivating the SIP update via `sip=False`:"
   ]
  },
  {
   "cell_type": "code",
   "execution_count": null,
   "metadata": {
    "colab": {
     "base_uri": "https://localhost:8080/"
    },
    "id": "0ENSdgZiS2eS",
    "outputId": "9262848f-2838-4fc5-f36c-0a1d88a0f7af",
    "pycharm": {
     "name": "#%%\n"
    }
   },
   "outputs": [
    {
     "name": "stdout",
     "output_type": "stream",
     "text": [
      "GD L2 loss x ; y: 187.2586057892786 ; 59.48433060883144\n",
      "GD L2 loss x ; y: 104.37856249315794 ; 20.323700695817763\n",
      "GD L2 loss x ; y: 72.5135221242247 ; 7.211550418534284\n",
      "GD L2 loss x ; y: 59.74792697261851 ; 5.3912096056107135\n",
      "GD L2 loss x ; y: 50.49939087445511 ; 3.6758429757536093\n"
     ]
    }
   ],
   "source": [
    "math.seed(0)\n",
    "net_gd = u_net(1, 1)\n",
    "optimizer_gd = adam(net_gd, 0.001)\n",
    "\n",
    "loss_gd_x=[]; loss_gd_y=[] \n",
    "for training_step in range(STEPS):\n",
    "    data = generate_heat_example(spatial(x=64, y=64), BATCH)\n",
    "    loss_value, x_gd, y_gd, x_l2, y_l2 = update_weights(net_gd, optimizer_gd, loss_function, net_gd, data, sip=False)\n",
    "    loss_gd_x.append(float(x_l2.mean)) \n",
    "    loss_gd_y.append(float(y_l2.mean))\n",
    "    if(training_step<5): print(\"GD L2 loss x ; y: \"+format(float(x_l2.mean))+\" ; \"+format(float(y_l2.mean)) )"
   ]
  },
  {
   "cell_type": "markdown",
   "metadata": {
    "id": "eV1j8lYuwUqB"
   },
   "source": [
    "## Evaluation\n",
    "\n",
    "Now we can evaluate how the two variants behave in direct comparison. Note that due to the on-the-fly generation of randomized data, all samples are previously unseen, and hence we'll directly use the training curves here to draw  conclusions about the performance of the two approaches.\n",
    "\n",
    "The following graph shows the $L^2$ error over training in terms of the reconstructed $x$ input, the main goal of our training."
   ]
  },
  {
   "cell_type": "code",
   "execution_count": null,
   "metadata": {
    "colab": {
     "base_uri": "https://localhost:8080/",
     "height": 300
    },
    "id": "uUkHS8Xljn7O",
    "outputId": "b20fa929-c474-4b4c-be42-00f382c2fee8"
   },
   "outputs": [
    {
     "data": {
      "image/png": "[encoded data removed]",
      "text/plain": [
       "<Figure size 432x288 with 1 Axes>"
      ]
     },
     "metadata": {
      "needs_background": "light"
     },
     "output_type": "display_data"
    }
   ],
   "source": [
    "import pylab as plt\n",
    "fig = plt.figure().gca()\n",
    "pltx = range(len(loss_gd_x)) \n",
    "fig.plot(pltx, loss_gd_x , lw=2, color='blue',      label=\"GD\")  \n",
    "fig.plot(pltx, loss_sip_x  , lw=2, color='red', label=\"SIP\")\n",
    "plt.xlabel('iterations'); plt.ylabel('x loss'); plt.legend(); plt.yscale(\"log\")\n"
   ]
  },
  {
   "cell_type": "markdown",
   "metadata": {
    "id": "-ZIRzk7ZwZ2x"
   },
   "source": [
    "The log-scale for the loss in $x$ nicely highlights that the SIP version does inherently better, and shows a significantly improved convergence for the NN training. This is purely caused by the better signal for the physics via the proxy loss. As shown in `loss_function()`, both variants use the same backprop-based update to change the weights of the NN. The improvements purely stem from the higher-order step in $y$ space computed by the inverse simulator.\n",
    "\n",
    "Just out of curiosity, we can also compare how the two versions compare in terms of difference in the output space $y$."
   ]
  },
  {
   "cell_type": "code",
   "execution_count": null,
   "metadata": {
    "colab": {
     "base_uri": "https://localhost:8080/",
     "height": 300
    },
    "id": "KcJemrzNu6dm",
    "outputId": "84bf4c24-9d8b-4f4a-a0d4-fbb6dfa569d8"
   },
   "outputs": [
    {
     "data": {
      "image/png": "[encoded data removed]",
      "text/plain": [
       "<Figure size 432x288 with 1 Axes>"
      ]
     },
     "metadata": {
      "needs_background": "light"
     },
     "output_type": "display_data"
    }
   ],
   "source": [
    "fig = plt.figure().gca()\n",
    "pltx = range(len(loss_gd_y)) \n",
    "import scipy # for filtering\n",
    "fig.plot(pltx, scipy.ndimage.filters.gaussian_filter1d(loss_gd_y,sigma=2)  , lw=2, color='blue',      label=\"GD\")  \n",
    "fig.plot(pltx, scipy.ndimage.filters.gaussian_filter1d(loss_sip_y ,sigma=2), lw=2, color='red', label=\"SIP\")\n",
    "plt.xlabel('iterations'); plt.ylabel('y loss'); plt.legend(); plt.yscale(\"log\")\n"
   ]
  },
  {
   "cell_type": "markdown",
   "metadata": {
    "id": "DeSQEpHB0Tip"
   },
   "source": [
    "There's likewise an improvements for SIPs, but it is not as pronounced as in $x$ space. Luckily, the $x$ reconstruction is the primary target, and hence of higher importance for the inverse problem at hand.\n",
    "\n",
    "The differences in terms of $L^2$ error are also very obvious in direct comparison. The following cell plots a reconstruction from GD & Adam next to the SIP version, and the ground truth on the right. The difference is obvious: the SIP reconstruction is significantly sharper, and contains fewer halos than the GD version. This is a direct consequence of the undesirable behavior of GD applying diffusion to the backpropagated gradient, instead of working against it."
   ]
  },
  {
   "cell_type": "code",
   "execution_count": null,
   "metadata": {
    "colab": {
     "base_uri": "https://localhost:8080/",
     "height": 313
    },
    "id": "gNvf0FuxwfdF",
    "outputId": "e83e2cd5-a7ee-46d5-a679-637a11c0e822"
   },
   "outputs": [
    {
     "data": {
      "image/png": "[encoded data removed]",
      "text/plain": [
       "<Figure size 1080x288 with 6 Axes>"
      ]
     },
     "metadata": {
      "needs_background": "light"
     },
     "output_type": "display_data"
    }
   ],
   "source": [
    "plt = vis.plot(x_gd.values.batch[0], x_sip.values.batch[0], data.values.batch[0], size=(15,4) )\n",
    "plt.axes[0].title=\"Adam\"; plt.axes[1].title=\"SIP\"; plt.axes[2].title=\"Reference\";\n"
   ]
  },
  {
   "cell_type": "markdown",
   "metadata": {
    "id": "pC5xFvjv7wGz"
   },
   "source": [
    "## Next steps\n",
    "\n",
    "* For this example, it's worth experimenting with various training parameters: run the training longer, with varying learning rates, and different network sizes (or even different architectures).\n"
   ]
  }
 ],
 "metadata": {
  "colab": {
   "collapsed_sections": [],
   "name": "Heat-SIP-forPBDL.ipynb",
   "provenance": []
  },
  "kernelspec": {
   "display_name": "Python 3",
   "language": "python",
   "name": "python3"
  },
  "language_info": {
   "codemirror_mode": {
    "name": "ipython",
    "version": 2
   },
   "file_extension": ".py",
   "mimetype": "text/x-python",
   "name": "python",
   "nbconvert_exporter": "python",
   "pygments_lexer": "ipython2",
   "version": "2.7.6"
  }
 },
 "nbformat": 4,
 "nbformat_minor": 0
}
