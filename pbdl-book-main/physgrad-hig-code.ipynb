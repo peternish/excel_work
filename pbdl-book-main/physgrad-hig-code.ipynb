{
  "cells": [
    {
      "cell_type": "markdown",
      "metadata": {
        "id": "2tT-NooLyyGW"
      },
      "source": [
        "# Coupled Oscillators with Half-Inverse Gradients\n",
        "\n",
        "In this notebook, we'll turn to a practical example comparing the half-inverse gradients (HIGs) to other methods for training neural networks with physical loss functions. Specifically, we'll compare:\n",
        "\n",
        "1. Adam: as a standard gradient-descent (GD) based network optimizer,\n",
        "2. Scale-Invariant Physics: the previously described algorithm that fully inverts the physics,\n",
        "3. Half-Inverse Gradients: which locally and jointly inverting physics and network.\n",
        "\n",
        "\n",
        "\n",
        "## Inverse problem setup\n",
        "\n",
        "The learning task is to find the control function steering the dynamics of a coupled oscillator system. \n",
        "This is a classical problem in physics, and a good case to evaluate the HIGs due to it's smaller size. We're using two mass points, and thus we'll only have four degrees of freedom for position and velocity of both points (compared to, e.g., the $32\\times32\\times2$ unknowns we'd get even for \"only\" a small fluid simulation with 32 cells along x and y). \n",
        "\n",
        "Nonetheless, the oscillators are a highly-non trivial case: we aim for applying a control such that the initial state is reached again after a chosen time interval. We'll use 24 steps of a fourth-order Runge-Kutta scheme, and hence the NN has to learn how to best \"nudge\" the two mass points over the course of all time steps, so that they end up at the desired position with the right velocity at the right time.\n",
        "\n",
        "A system of $N$ coupled oscillators is described by the following Hamiltonian:\n",
        "\n",
        "$$\n",
        "  \\mathcal{H}(x_i,p_i,t)=\\sum_i \\bigg( \\frac{x_i^2}{2}+ \\frac{p_i^2}{2} +  \\alpha \\cdot (x_i-x_{i+1})^4+u(t) \\cdot x_i \\cdot c_i\\bigg),\n",
        "$$\n",
        "\n",
        "which provides the basis for the RK4 time integration below.\n",
        "\n"
      ]
    },
    {
      "cell_type": "markdown",
      "metadata": {
        "id": "5NOyhZ-MOnoZ"
      },
      "source": [
        "\n",
        "## Problem statement\n",
        "\n",
        "More concretely, we consider a set of different phyiscal inputs ($x_i$). Using a corresponding control function ($u_i$), we can influence the time evolution of our physical system $\\mathcal P$ and receive an output state ($y_i$).\n",
        "\n",
        "$$y_i=\\mathcal P(x_i;u_i)$$\n",
        "\n",
        "If we want to evolve a given initial state($x_i$) into a given target state ($y^*_i$), we receive an inverse problem for the control function $(u_i)$. The quality of between desired target state ($y^*_i$) and received target state ($y_i$) is measured by a loss function ($L$).\n",
        "\n",
        "$$\\text{arg min}_{u_i}\\; L(y^*_i,\\mathcal P(x_i;u_i))$$\n",
        "\n",
        "If we use a neural network ($f$ parameterized by $\\theta$) to learn the control function over a set of input/output pairs ($x_i,y^*_i$), we transform the above physics optimization task into a learning problem.\n",
        "\n",
        "$$\\text{arg min}_{\\theta}\\; \\sum_i L\\big(y^*_i, \\mathcal P(x_i;f(x_i,y_i; \\theta)) \\big)$$"
      ]
    },
    {
      "cell_type": "markdown",
      "metadata": {
        "id": "We6eG_ZWOspS"
      },
      "source": [
        "Before we begin by setting up the physics solver $\\mathcal P$, we import the necessary libraries (this example uses TensorFlow), and define the main global variable `MODE`, that switches between _Adam_ (`'GD'`), _Scale-invariant physics_ (`'SIP'`), and _Half-inverse gradients_ (`'HIG'`)."
      ]
    },
    {
      "cell_type": "code",
      "execution_count": 95,
      "metadata": {
        "id": "A0cyHl7tyyGg"
      },
      "outputs": [],
      "source": [
        "import numpy as np\n",
        "import tensorflow as tf\n",
        "import time, os\n",
        "\n",
        "# main switch for the three methods:\n",
        "MODE = 'HIG'  # HIG | SIP | GD"
      ]
    },
    {
      "cell_type": "markdown",
      "metadata": {
        "id": "yCN4F_AjyyGk"
      },
      "source": [
        "## Coupled linear oscillator simulation\n",
        "\n",
        "For the physics simulation, we'll solve a differential equation for a system of coupled linear oscillators with a control term. The time integration, a fourth-order Runge-Kutta scheme is used.\n",
        "\n",
        "Below, we're first defining a few global constants:\n",
        "`Nx`: the number of oscillators,\n",
        "`Nt`: the number of time evolution steps, and\n",
        "`DT`: the length of one time step. \n",
        "\n",
        "We'll then define a helper function to set up a Laplacian stencil, the `coupled_oscillators_batch()` function which computes the simulation for a whole mini batch of values, and finally the `solver()` function, which runs the desired number of time steps with a given control signal."
      ]
    },
    {
      "cell_type": "code",
      "execution_count": 96,
      "metadata": {
        "id": "hevmSaVvyyGl"
      },
      "outputs": [],
      "source": [
        "Nx = 2\n",
        "Nt = 24\n",
        "DT = 0.5\n",
        "\n",
        "def build_laplace(n,boundary='0'):\n",
        "    if n==1:\n",
        "        return np.zeros((1,1),dtype=np.float32)\n",
        "    d1 = -2 * np.ones((n,),dtype=np.float32)\n",
        "    d2 = 1 * np.ones((n-1,),dtype=np.float32)\n",
        "    lap = np.zeros((n,n),dtype=np.float32)\n",
        "    lap[range(n),range(n)]=d1\n",
        "    lap[range(1,n),range(n-1)]=d2\n",
        "    lap[range(n-1),range(1,n)]=d2\n",
        "    if boundary=='0':\n",
        "        lap[0,0]=lap[n-1,n-1]=-1\n",
        "\n",
        "    return lap\n",
        "\n",
        "@tf.function\n",
        "def coupled_oscillators_batch( x, control):\n",
        "    '''\n",
        "    ODE of type:    x' = f(x)\n",
        "    :param x_in:    position and velocities, shape: (batch, 2 * number of osc) order second index: x_i , v_i\n",
        "    :param control: control function, shape: (batch,)\n",
        "    :return:\n",
        "    '''\n",
        "    #print('coupled_oscillators_batch')\n",
        "    n_osc = x.shape[1]//2\n",
        "\n",
        "    # natural time evo\n",
        "    a1 = np.array([[0,1],[-1,0]],dtype=np.float32)\n",
        "    a2 = np.eye(n_osc,dtype=np.float32)\n",
        "    A = np.kron(a1,a2)\n",
        "    x_dot1 = tf.tensordot(x,A,axes = (1,1))\n",
        "\n",
        "    # interaction term\n",
        "    interaction_strength = 0.2\n",
        "    b1 = np.array([[0,0],[1,0]],dtype=np.float32)\n",
        "    b2 = build_laplace(n_osc)\n",
        "    B = interaction_strength * np.kron(b1,b2)\n",
        "    x_dot2 = tf.tensordot(x,B, axes=(1, 1))\n",
        "\n",
        "    # control term\n",
        "    control_vector = np.zeros((n_osc,),dtype=np.float32)\n",
        "    control_vector[-1] = 1.0\n",
        "    c1 = np.array([0,1],dtype=np.float32)\n",
        "    c2 = control_vector\n",
        "    C = np.kron(c1,c2)\n",
        "    x_dot3 = tf.tensordot(control,C, axes=0)\n",
        "\n",
        "    #all terms\n",
        "    x_dot = x_dot1 + x_dot2 +x_dot3\n",
        "    return x_dot\n",
        "\n",
        "@tf.function\n",
        "def runge_kutta_4_batch(x_0, dt, control, ODE_f_batch):\n",
        "\n",
        "    f_0_0 = ODE_f_batch(x_0, control)\n",
        "    x_14 = x_0 + 0.5 * dt * f_0_0\n",
        "\n",
        "    f_12_14 = ODE_f_batch(x_14, control)\n",
        "    x_12 = x_0 + 0.5 * dt * f_12_14\n",
        "\n",
        "    f_12_12 = ODE_f_batch(x_12, control)\n",
        "    x_34 = x_0 + dt * f_12_12\n",
        "\n",
        "    terms = f_0_0 + 2 * f_12_14 + 2 * f_12_12 + ODE_f_batch(x_34, control)\n",
        "    x1 = x_0 + dt * terms / 6\n",
        "\n",
        "    return x1\n",
        "\n",
        "@tf.function\n",
        "def solver(x0, control):\n",
        "    x = x0\n",
        "    for i in range(Nt):\n",
        "        x = runge_kutta_4_batch(x, DT, control[:,i], coupled_oscillators_batch)\n",
        "    return x\n"
      ]
    },
    {
      "cell_type": "markdown",
      "metadata": {
        "id": "VtY4-wbXyyGn"
      },
      "source": [
        "## Training setup\n",
        "\n",
        "The neural network itself is quite simple: it consists of four dense layers (the intermediate ones with 20 neurons each), and `tanh` activation functions."
      ]
    },
    {
      "cell_type": "code",
      "execution_count": 97,
      "metadata": {
        "id": "et1j8lYRyyGp"
      },
      "outputs": [],
      "source": [
        "act = tf.keras.activations.tanh\n",
        "model = tf.keras.models.Sequential([\n",
        "    tf.keras.layers.InputLayer(input_shape=(2*Nx)),\n",
        "    tf.keras.layers.Dense(20, activation=act),\n",
        "    tf.keras.layers.Dense(20, activation=act),\n",
        "    tf.keras.layers.Dense(20, activation=act),\n",
        "    tf.keras.layers.Dense(Nt, activation='linear')\n",
        "    ])"
      ]
    },
    {
      "cell_type": "markdown",
      "metadata": {
        "id": "zilE67gYyyGq"
      },
      "source": [
        "As loss function, we'll use an $L^2$ loss:"
      ]
    },
    {
      "cell_type": "code",
      "execution_count": 98,
      "metadata": {
        "id": "km83dkWgyyGq"
      },
      "outputs": [],
      "source": [
        "@tf.function\n",
        "def loss_function(a,b):\n",
        "    diff = a-b\n",
        "    loss_batch = tf.reduce_sum(diff**2,axis=1)\n",
        "    loss = tf.reduce_sum(loss_batch)\n",
        "    return loss"
      ]
    },
    {
      "cell_type": "markdown",
      "metadata": {
        "id": "ZyS31DHdyyGr"
      },
      "source": [
        "And as data set for training we simply create 4k of random position values which the oscillators start with (`X_TRAIN`), and which they should return to at the end of the simulation (`Y_TRAIN`). As they should return to their initial states, we have `X_TRAIN=Y_TRAIN`.\n",
        "\n"
      ]
    },
    {
      "cell_type": "code",
      "execution_count": 99,
      "metadata": {
        "id": "_zz7VSIpyyGs"
      },
      "outputs": [],
      "source": [
        "N = 2**12\n",
        "X_TRAIN = np.random.rand(N, 2 * Nx).astype(np.float32)\n",
        "Y_TRAIN = X_TRAIN # the target states are identical"
      ]
    },
    {
      "cell_type": "markdown",
      "metadata": {
        "id": "1KChFddqyyGs"
      },
      "source": [
        "## Training\n",
        "For the optimization procedure of the neural network training, we need to set up some global parameters. The next cell initializes some suitable values tailored to each of the three methods. These were determined heuristically to work best for each. If we try to use the same settings for all, this would inevitably make the comparison unfair for some of them.\n",
        "\n",
        "1. _Adam_: This is the most widely used NN optimizer, and we're using it here as a representative of the GD family. Note that the truncation parameter has no meaning for Adam.\n",
        "\n",
        "2. _SIP_: The specified optimizer is the one used for network optimization. The physics inversion is done via Gauss-Newton and corresponds to an exact inversion since the physical optimization landscape is quadratic. For the Jacobian inversion in Gauss-Newton, we can specify a truncation parameter.\n",
        "\n",
        "3. _HIG_: To obtain the HIG algorithm, the optimizer has to be set to SGD. For the Jacobian half-inversion, we can specify a truncation parameter. Optimal batch sizes are typically lower than for the other two, and a learning rate of 1 typically works very well.\n",
        "\n",
        "The maximal training time in seconds is set via `MAX_TIME` below."
      ]
    },
    {
      "cell_type": "code",
      "execution_count": 100,
      "metadata": {
        "colab": {
          "base_uri": "https://localhost:8080/"
        },
        "id": "PYjx7Sk8yyGz",
        "outputId": "9ee462ad-499c-4f7c-d3a3-0fb11ab36abe"
      },
      "outputs": [
        {
          "name": "stdout",
          "output_type": "stream",
          "text": [
            "Running variant: HIG\n"
          ]
        }
      ],
      "source": [
        "if MODE=='HIG': # HIG training\n",
        "  OPTIMIZER = tf.keras.optimizers.SGD\n",
        "  BATCH_SIZE = 32 # larger batches make HIGs unnecessariy slow...\n",
        "  LR = 1.0\n",
        "  TRUNC = 10**-10\n",
        "\n",
        "elif MODE=='SIP': # SIP training\n",
        "  OPTIMIZER = tf.keras.optimizers.Adam\n",
        "  BATCH_SIZE = 256\n",
        "  LR = 0.001  # for the internal step with Adam\n",
        "  TRUNC = 0   # not used\n",
        "\n",
        "else: #  Adam Training (as GD representative)\n",
        "  MODE = 'GD' \n",
        "  OPTIMIZER = tf.keras.optimizers.Adam\n",
        "  BATCH_SIZE = 256\n",
        "  LR = 0.001\n",
        "  TRUNC = 0 # not used\n",
        "\n",
        "# global parameters for all three methods\n",
        "MAX_TIME = 100 # [s]\n",
        "print(\"Running variant: \"+MODE)"
      ]
    },
    {
      "cell_type": "markdown",
      "metadata": {
        "id": "4VFJ4pmEyyG0"
      },
      "source": [
        "The next function, `HIG_pinv()`, is a crucial one: it constructs the half-inverse of a given matrix for HIGs. It computes an SVD, takes the square-root of the singular values, and then re-assembles the matrix. "
      ]
    },
    {
      "cell_type": "code",
      "execution_count": 101,
      "metadata": {
        "id": "c3B4qtUPyyG1"
      },
      "outputs": [],
      "source": [
        "from tensorflow.python.framework import ops\n",
        "from tensorflow.python.framework import tensor_shape\n",
        "from tensorflow.python.ops import array_ops\n",
        "from tensorflow.python.ops import math_ops\n",
        "from tensorflow.python.util import dispatch\n",
        "from tensorflow.python.util.tf_export import tf_export\n",
        "from tensorflow.python.ops.linalg.linalg_impl import _maybe_validate_matrix,svd\n",
        "\n",
        "# partial inversion of the Jacobian via SVD:\n",
        "# this function is adopted from tensorflow's SVD function, and published here under its license: Apache-2.0 License , https://github.com/tensorflow/tensorflow/blob/master/LICENSE\n",
        "@tf_export('linalg.HIG_pinv')\n",
        "@dispatch.add_dispatch_support\n",
        "def HIG_pinv(a, rcond=None,beta=0.5, validate_args=False, name=None):\n",
        "\n",
        "  with ops.name_scope(name or 'pinv'):\n",
        "    a = ops.convert_to_tensor(a, name='a')\n",
        "\n",
        "    assertions = _maybe_validate_matrix(a, validate_args)\n",
        "    if assertions:\n",
        "      with ops.control_dependencies(assertions):\n",
        "        a = array_ops.identity(a)\n",
        "\n",
        "    dtype = a.dtype.as_numpy_dtype\n",
        "\n",
        "    if rcond is None:\n",
        "\n",
        "      def get_dim_size(dim):\n",
        "        dim_val = tensor_shape.dimension_value(a.shape[dim])\n",
        "        if dim_val is not None:\n",
        "          return dim_val\n",
        "        return array_ops.shape(a)[dim]\n",
        "\n",
        "      num_rows = get_dim_size(-2)\n",
        "      num_cols = get_dim_size(-1)\n",
        "      if isinstance(num_rows, int) and isinstance(num_cols, int):\n",
        "        max_rows_cols = float(max(num_rows, num_cols))\n",
        "      else:\n",
        "        max_rows_cols = math_ops.cast(\n",
        "            math_ops.maximum(num_rows, num_cols), dtype)\n",
        "      rcond = 10. * max_rows_cols * np.finfo(dtype).eps\n",
        "\n",
        "    rcond = ops.convert_to_tensor(rcond, dtype=dtype, name='rcond')\n",
        "\n",
        "    [ singular_values, left_singular_vectors, right_singular_vectors, ] = svd(\n",
        "        a, full_matrices=False, compute_uv=True)\n",
        "\n",
        "    cutoff = rcond * math_ops.reduce_max(singular_values, axis=-1)\n",
        "    singular_values = array_ops.where_v2(\n",
        "        singular_values > array_ops.expand_dims_v2(cutoff, -1), singular_values**beta,\n",
        "        np.array(np.inf, dtype))\n",
        "\n",
        "    a_pinv = math_ops.matmul(\n",
        "        right_singular_vectors / array_ops.expand_dims_v2(singular_values, -2),\n",
        "        left_singular_vectors,\n",
        "        adjoint_b=True)\n",
        "\n",
        "    if a.shape is not None and a.shape.rank is not None:\n",
        "      a_pinv.set_shape(a.shape[:-2].concatenate([a.shape[-1], a.shape[-2]]))\n",
        "\n",
        "    return a_pinv"
      ]
    },
    {
      "cell_type": "markdown",
      "metadata": {
        "id": "Bj90LjpyyyG2"
      },
      "source": [
        "Now we have all pieces in place to run the training. The next cell defines a Python class to organize the neural network optimization. It receives the physics solver, network model, loss function and a data set, and runs as many epochs as possible within the given time limit `MAX_TIME`.\n",
        "\n",
        "Depending on the chosen optimization method, the mini batch updates differ:\n",
        "1. Adam: Compute loss gradient, then apply the Adam update.\n",
        "2. PG: Compute loss gradient und physics Jacobian, invert them data-point-wise, and compute network updates via the proxy loss and Adam.\n",
        "3. HIG: Compute loss gradient and network-physics Jacobian, then jointly compute the half-inversion, and update the network parameters with the resulting step.\n",
        "\n",
        "The `mini_batch_update()` method of the optimizer class realizes these three variants."
      ]
    },
    {
      "cell_type": "code",
      "execution_count": 102,
      "metadata": {
        "id": "peqXxMNpyyG5"
      },
      "outputs": [],
      "source": [
        "class Optimization():\n",
        "    def __init__(self,model,solver,loss_function,x_train,y_train):\n",
        "        self.model = model\n",
        "        self.solver = solver\n",
        "        self.loss_function = loss_function\n",
        "        self.x_train = x_train\n",
        "        self.y_train = y_train\n",
        "        self.y_dim = y_train.shape[1]\n",
        "        self.weight_shapes = [weight_tensor.shape for weight_tensor in self.model.trainable_weights]\n",
        "\n",
        "    def set_params(self,batch_size,learning_rate,optimizer,max_time,mode,trunc):\n",
        "        self.number_of_batches = N // batch_size\n",
        "        self.max_time = max_time\n",
        "        self.batch_size = batch_size\n",
        "        self.learning_rate = learning_rate\n",
        "        self.optimizer = optimizer(learning_rate)\n",
        "        self.mode = mode\n",
        "        self.trunc = trunc\n",
        "\n",
        "\n",
        "    def computation(self,x_batch, y_batch):\n",
        "        control_batch = self.model(y_batch)\n",
        "        y_prediction_batch = self.solver(x_batch,control_batch)\n",
        "        loss = self.loss_function(y_batch,y_prediction_batch)\n",
        "        return loss\n",
        "\n",
        "\n",
        "    @tf.function\n",
        "    def gd_get_derivatives(self,x_batch, y_batch):\n",
        "\n",
        "        with tf.GradientTape(persistent=True) as tape:\n",
        "            tape.watch(self.model.trainable_variables)\n",
        "            loss = self.computation(x_batch,y_batch)\n",
        "            loss_per_dp = loss / self.batch_size\n",
        "        grad = tape.gradient(loss_per_dp, self.model.trainable_variables)\n",
        "        return grad\n",
        "\n",
        "\n",
        "    @tf.function\n",
        "    def pg_get_physics_derivatives(self,x_batch, y_batch): # physics gradient for SIP\n",
        "\n",
        "        with tf.GradientTape(persistent=True) as tape:\n",
        "            control_batch = self.model(y_batch)\n",
        "            tape.watch(control_batch)\n",
        "            y_prediction_batch = self.solver(x_batch,control_batch)\n",
        "            loss = self.loss_function(y_batch,y_prediction_batch)\n",
        "            loss_per_dp = loss / self.batch_size\n",
        "\n",
        "        jacy = tape.batch_jacobian(y_prediction_batch,control_batch)\n",
        "        grad = tape.gradient(loss_per_dp, y_prediction_batch)\n",
        "        return jacy,grad,control_batch\n",
        "\n",
        "    @tf.function\n",
        "    def pg_get_network_derivatives(self,x_batch, y_batch,new_control_batch): #physical grads\n",
        "\n",
        "        with tf.GradientTape(persistent=True) as tape:\n",
        "            tape.watch(self.model.trainable_variables)\n",
        "            control_batch = self.model(y_batch)\n",
        "            loss = self.loss_function(new_control_batch,control_batch)\n",
        "            #y_prediction_batch = self.solver(x_batch,control_batch)\n",
        "            #loss = self.loss_function(y_batch,y_prediction_batch)\n",
        "            loss_per_dp = loss / self.batch_size\n",
        "\n",
        "        network_grad = tape.gradient(loss_per_dp, self.model.trainable_variables)\n",
        "        return network_grad\n",
        "\n",
        "    @tf.function\n",
        "    def hig_get_derivatives(self,x_batch,y_batch):\n",
        "\n",
        "        with tf.GradientTape(persistent=True) as tape:\n",
        "            tape.watch(self.model.trainable_variables)\n",
        "            control_batch = self.model(y_batch)\n",
        "            y_prediction_batch = self.solver(x_batch,control_batch)\n",
        "            loss = self.loss_function(y_batch,y_prediction_batch)\n",
        "            loss_per_dp = loss / self.batch_size\n",
        "\n",
        "        jacy = tape.jacobian(y_prediction_batch, self.model.trainable_variables, experimental_use_pfor=True)\n",
        "        loss_grad = tape.gradient(loss_per_dp, y_prediction_batch)\n",
        "        return jacy, loss_grad\n",
        "\n",
        "\n",
        "    def mini_batch_update(self,x_batch, y_batch):\n",
        "        if self.mode==\"GD\":\n",
        "            grad = self.gd_get_derivatives(x_batch, y_batch)\n",
        "            self.optimizer.apply_gradients(zip(grad, self.model.trainable_weights))\n",
        "\n",
        "        elif self.mode==\"SIP\":\n",
        "            jacy,grad,control_batch = self.pg_get_physics_derivatives(x_batch, y_batch)\n",
        "            grad_e = tf.expand_dims(grad,-1)\n",
        "            pinv = tf.linalg.pinv(jacy,rcond=10**-5)\n",
        "            delta_control_label_batch = (pinv@grad_e)[:,:,0]\n",
        "            new_control_batch = control_batch - delta_control_label_batch\n",
        "            network_grad = self.pg_get_network_derivatives(x_batch, y_batch,new_control_batch)\n",
        "            self.optimizer.apply_gradients(zip(network_grad, self.model.trainable_weights))\n",
        "\n",
        "        elif self.mode =='HIG':\n",
        "            jacy, grad = self.hig_get_derivatives(x_batch, y_batch)\n",
        "            flat_jacy_list = [tf.reshape(jac, (self.batch_size * self.y_dim, -1)) for jac in jacy]\n",
        "            flat_jacy = tf.concat(flat_jacy_list, axis=1)\n",
        "            flat_grad = tf.reshape(grad, (-1,))\n",
        "            inv = HIG_pinv(flat_jacy, rcond=self.trunc)\n",
        "            processed_derivatives = tf.tensordot(inv, flat_grad, axes=(1, 0))\n",
        "            #processed_derivatives = self.linear_solve(flat_jacy, flat_grad)\n",
        "            update_list = []\n",
        "            l1 = 0\n",
        "            for k, shape in enumerate(self.weight_shapes):\n",
        "                l2 = l1 + np.prod(shape)\n",
        "                upd = processed_derivatives[l1:l2]\n",
        "                upd = np.reshape(upd, shape)\n",
        "                update_list.append(upd)\n",
        "                l1 = l2\n",
        "            self.optimizer.apply_gradients(zip(update_list, self.model.trainable_weights))\n",
        "\n",
        "\n",
        "    def epoch_update(self):\n",
        "        for batch_index in range(self.number_of_batches):\n",
        "            position = batch_index * self.batch_size\n",
        "            x_batch = self.x_train[position:position + self.batch_size]\n",
        "            y_batch = self.y_train[position:position + self.batch_size]\n",
        "            self.mini_batch_update(x_batch, y_batch)\n",
        "\n",
        "    def eval(self,epoch,wc_time,ep_dur):\n",
        "        train_loss = self.computation(self.x_train,self.y_train)\n",
        "        train_loss_per_dp = train_loss / N\n",
        "        if epoch<5 or epoch%20==0: print('Epoch: ', epoch,', wall clock time: ',wc_time,', loss: ', float(train_loss_per_dp) )\n",
        "        #print('TrainLoss:', train_loss_per_dp)\n",
        "        #print('Epoch: ', epoch,' WallClockTime: ',wc_time,' EpochDuration: ',ep_dur )\n",
        "        return train_loss_per_dp\n",
        "\n",
        "    def start_training(self):\n",
        "        init_loss = self.eval(0,0,0)\n",
        "        init_time = time.time()\n",
        "        time_list = [init_time]\n",
        "        loss_list = [init_loss]\n",
        "\n",
        "        epoch=0\n",
        "        wc_time = 0\n",
        "\n",
        "        while wc_time<self.max_time:\n",
        "            \n",
        "            duration = time.time()\n",
        "            self.epoch_update()\n",
        "            duration = time.time()-duration\n",
        "\n",
        "            epoch += 1\n",
        "            wc_time += duration\n",
        "\n",
        "            loss = self.eval(epoch,wc_time,duration)\n",
        "            time_list.append(duration)\n",
        "            loss_list.append(loss)\n",
        "\n",
        "        time_list = np.array(time_list)\n",
        "        loss_list = np.array(loss_list)\n",
        "        time_list[0] = 0\n",
        "        return time_list, loss_list"
      ]
    },
    {
      "cell_type": "markdown",
      "metadata": {
        "id": "3hCSV9KcyyG7"
      },
      "source": [
        "All that's left to do is to start the training with the chosen global parameters, and collect the results in `time_list`, and `loss_list`."
      ]
    },
    {
      "cell_type": "code",
      "execution_count": 103,
      "metadata": {
        "colab": {
          "base_uri": "https://localhost:8080/"
        },
        "id": "6BazTjB5yyG8",
        "outputId": "f4cf85e6-e7d3-4ed1-8c67-b442e1653bfe"
      },
      "outputs": [
        {
          "name": "stdout",
          "output_type": "stream",
          "text": [
            "Epoch:  0 , wall clock time:  0 , loss:  1.4401766061782837\n",
            "Epoch:  1 , wall clock time:  28.06755018234253 , loss:  5.44398972124327e-05\n",
            "Epoch:  2 , wall clock time:  31.38792371749878 , loss:  1.064436037268024e-05\n",
            "Epoch:  3 , wall clock time:  34.690271854400635 , loss:  3.163525434501935e-06\n",
            "Epoch:  4 , wall clock time:  37.9914448261261 , loss:  1.1857609933940694e-06\n"
          ]
        }
      ],
      "source": [
        "opt = Optimization(model, solver, loss_function, X_TRAIN, Y_TRAIN)\n",
        "opt.set_params(BATCH_SIZE, LR, OPTIMIZER, MAX_TIME, MODE, TRUNC)\n",
        "time_list, loss_list = opt.start_training()"
      ]
    },
    {
      "cell_type": "markdown",
      "metadata": {
        "id": "dPAJ6CGiyyG9"
      },
      "source": [
        "\n",
        "## Evaluation\n",
        "\n",
        "Now we can evaluate how our training converged over time. The following graph shows the loss evolution over time in seconds."
      ]
    },
    {
      "cell_type": "code",
      "execution_count": 104,
      "metadata": {
        "colab": {
          "base_uri": "https://localhost:8080/",
          "height": 316
        },
        "id": "YzHtLIqgyyG9",
        "outputId": "0388cf17-63e8-4587-a168-362f903e19d5"
      },
      "outputs": [
        {
          "data": {
            "image/png": "[encoded data removed]",
            "text/plain": [
              "<Figure size 432x288 with 1 Axes>"
            ]
          },
          "metadata": {
            "needs_background": "light"
          },
          "output_type": "display_data"
        }
      ],
      "source": [
        "import matplotlib.pyplot as plt\n",
        "\n",
        "plt.plot(np.cumsum(time_list),loss_list)\n",
        "plt.yscale('log')\n",
        "plt.xlabel('Wall clock time [s]'); plt.ylabel('Loss')\n",
        "plt.title('Linear chain - '+MODE+' with '+str(OPTIMIZER.__name__))\n",
        "plt.show()"
      ]
    },
    {
      "cell_type": "markdown",
      "metadata": {
        "id": "xnr9BvlDU8H6"
      },
      "source": [
        "For all three methods, you'll see a big linear step right at the start. As we're -- for fairness -- measuring the whole runtime, this first step includes all TensorFlow initialization steps, which are significantly more involved for HIG and SIP. Adam is much faster in terms of initialization, and likewise faster per training iteration.\n",
        "\n",
        "All three methods by themselves manage to bring down the loss. What's more interesting is to see how they compare. For this, the next cell stores the training evolution, and this notebook needs to be run one time with each of the three methods to produce the final comparison graph."
      ]
    },
    {
      "cell_type": "code",
      "execution_count": 105,
      "metadata": {
        "id": "bZMVQaJiyyG-"
      },
      "outputs": [],
      "source": [
        "path = '/home/'\n",
        "namet = 'time'\n",
        "namel = 'loss'\n",
        "np.savetxt(path+MODE+namet+'.txt',time_list)\n",
        "np.savetxt(path+MODE+namel+'.txt',loss_list)"
      ]
    },
    {
      "cell_type": "markdown",
      "metadata": {
        "id": "KS1lL5LsV9JV"
      },
      "source": [
        "After runs with each of the methods, we can show them side by side:"
      ]
    },
    {
      "cell_type": "code",
      "execution_count": 106,
      "metadata": {
        "colab": {
          "base_uri": "https://localhost:8080/",
          "height": 316
        },
        "id": "OsKQ0MyX6Zmx",
        "outputId": "c76d6002-24e3-4f7d-e3a2-042ce15f9478"
      },
      "outputs": [
        {
          "data": {
            "image/png": "[encoded data removed]",
            "text/plain": [
              "<Figure size 432x288 with 1 Axes>"
            ]
          },
          "metadata": {
            "needs_background": "light"
          },
          "output_type": "display_data"
        }
      ],
      "source": [
        "from os.path import exists\n",
        "\n",
        "# if previous runs are available, compare all 3\n",
        "if exists(path+'HIG'+namet+'.txt') and exists(path+'HIG'+namel+'.txt') and exists(path+'SIP'+namet+'.txt') and exists(path+'SIP'+namel+'.txt') and exists(path+'GD'+namet+'.txt') and exists(path+'GD'+namel+'.txt'):\n",
        "  lt_hig = np.loadtxt(path+'HIG'+namet+'.txt')\n",
        "  ll_hig = np.loadtxt(path+'HIG'+namel+'.txt')\n",
        "\n",
        "  lt_sip = np.loadtxt(path+'SIP'+namet+'.txt')\n",
        "  ll_sip = np.loadtxt(path+'SIP'+namel+'.txt')\n",
        "\n",
        "  lt_gd = np.loadtxt(path+'GD'+namet+'.txt')\n",
        "  ll_gd = np.loadtxt(path+'GD'+namel+'.txt')\n",
        "\n",
        "  plt.plot(np.cumsum(lt_gd),ll_gd,   label=\"GD\")\n",
        "  plt.plot(np.cumsum(lt_sip),ll_sip, label=\"SIP\")\n",
        "  plt.plot(np.cumsum(lt_hig),ll_hig,   label=\"HIG\")\n",
        "  plt.yscale('log')\n",
        "  plt.xlabel('Wall clock time [s]'); plt.ylabel('Training loss'); plt.legend()\n",
        "  plt.title('Linear chain comparison ')\n",
        "  plt.show()\n",
        "else:\n",
        "  print(\"Run this notebook three times with MODE='HIG|SIP|GD' to produce the final graph\")\n"
      ]
    },
    {
      "cell_type": "markdown",
      "metadata": {
        "id": "XifTlo4xWPDb"
      },
      "source": [
        "This graph makes the significant differences in terms of convergence very clear: Adam (the blue `GD` curve), performs a large number of updates, but its rough approximation of the Hessian is not enough to converge to high accuracies. It stagnates at a high loss level.\n",
        "\n",
        "The SIP updates don't outperform Adam in this scenario. This is caused by the relatively simple physics (the _linear_ oscillators), and the higher runtime cost of SIP. If you run this example longer, SIP will actually overtake Adam, but start suffering from numerical issues with the full inversion.\n",
        "\n",
        "The HIGs perform much better than the two others: despite being fairly slow per iteration, the half-inversion produces a very good update, that makes the training converge to very low loss values very quickly. The HIGs reach an accuracy that is around four order of magnitudes better than the other two methods."
      ]
    },
    {
      "cell_type": "markdown",
      "metadata": {
        "id": "UiaLlPVz-clP"
      },
      "source": [
        "## Next steps\n",
        "\n",
        "There's a variety of interesting directions for further tests and modifications with this notebook:\n",
        "\n",
        "* Most importantly, we've actually only looked at training performance so far! This keeps the notebook reasonably short, but it's admittedly bad practice. While we claim that HIGs likewise work on _real_ test data, this is a great next step with this notebook: allocate proper test samples, and re-run the evaluation for all three methods on the test data.\n",
        "* Also, you can vary the physics behavior: use more oscillators for longer or shorter time spans, or even include a non-linear force (as employed in the HIG paper). Be warned: for the latter, the SIP version will require a new inverse solver, though."
      ]
    }
  ],
  "metadata": {
    "colab": {
      "collapsed_sections": [],
      "name": "physgrad-hig-code.ipynb",
      "provenance": []
    },
    "kernelspec": {
      "display_name": "Python 3.8.10 64-bit ('tf250': conda)",
      "name": "python3"
    },
    "language_info": {
      "codemirror_mode": {
        "name": "ipython",
        "version": 3
      },
      "file_extension": ".py",
      "mimetype": "text/x-python",
      "name": "python",
      "nbconvert_exporter": "python",
      "pygments_lexer": "ipython3",
      "version": "3.8.10"
    },
    "orig_nbformat": 4
  },
  "nbformat": 4,
  "nbformat_minor": 0
}
